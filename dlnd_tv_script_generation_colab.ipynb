{
  "nbformat": 4,
  "nbformat_minor": 0,
  "metadata": {
    "kernelspec": {
      "display_name": "Python 3",
      "language": "python",
      "name": "python3"
    },
    "language_info": {
      "codemirror_mode": {
        "name": "ipython",
        "version": 3
      },
      "file_extension": ".py",
      "mimetype": "text/x-python",
      "name": "python",
      "nbconvert_exporter": "python",
      "pygments_lexer": "ipython3",
      "version": "3.6.3"
    },
    "colab": {
      "name": "dlnd_tv_script_generation.ipynb",
      "provenance": [],
      "toc_visible": true,
      "include_colab_link": true
    }
  },
  "cells": [
    {
      "cell_type": "markdown",
      "metadata": {
        "id": "view-in-github",
        "colab_type": "text"
      },
      "source": [
        "<a href=\"https://colab.research.google.com/github/gamesMum/project-tv-script-generation/blob/master/dlnd_tv_script_generation_colab.ipynb\" target=\"_parent\"><img src=\"https://colab.research.google.com/assets/colab-badge.svg\" alt=\"Open In Colab\"/></a>"
      ]
    },
    {
      "cell_type": "markdown",
      "metadata": {
        "id": "hcjr3vVQy-lE",
        "colab_type": "text"
      },
      "source": [
        "# TV Script Generation\n",
        "\n",
        "In this project, you'll generate your own [Seinfeld](https://en.wikipedia.org/wiki/Seinfeld) TV scripts using RNNs.  You'll be using part of the [Seinfeld dataset](https://www.kaggle.com/thec03u5/seinfeld-chronicles#scripts.csv) of scripts from 9 seasons.  The Neural Network you'll build will generate a new ,\"fake\" TV script, based on patterns it recognizes in this training data.\n",
        "\n",
        "## Get the Data\n",
        "\n",
        "The data is already provided for you in `./data/Seinfeld_Scripts.txt` and you're encouraged to open that file and look at the text. \n",
        ">* As a first step, we'll load in this data and look at some samples. \n",
        "* Then, you'll be tasked with defining and training an RNN to generate a new script!"
      ]
    },
    {
      "cell_type": "code",
      "metadata": {
        "id": "TQT9ppBgy-lG",
        "colab_type": "code",
        "colab": {}
      },
      "source": [
        "import json\n",
        "import os\n",
        "\n",
        "# read file\n",
        "with open('/content/kaggle.json', 'r') as myfile:\n",
        "    data=myfile.read()\n",
        "# parse file\n",
        "obj = json.loads(data)\n",
        "#get username and key\n",
        "kaggle_key = str(obj['key'])\n",
        "kaggle_username = str(obj['username'])\n"
      ],
      "execution_count": 0,
      "outputs": []
    },
    {
      "cell_type": "code",
      "metadata": {
        "id": "nb45c6Xw0uBJ",
        "colab_type": "code",
        "colab": {
          "base_uri": "https://localhost:8080/",
          "height": 34
        },
        "outputId": "e294a839-263b-41b2-9a06-a5be8ee0e729"
      },
      "source": [
        "# parse file\n",
        "obj = json.loads(data)\n",
        "\n",
        "os.environ['KAGGLE_USERNAME'] = kaggle_username # username from the json file\n",
        "os.environ['KAGGLE_KEY'] = kaggle_key # key from the json file\n",
        "\n",
        "!kaggle datasets download -d \"thec03u5/seinfeld-chronicles\" # api copied from kaggle"
      ],
      "execution_count": 16,
      "outputs": [
        {
          "output_type": "stream",
          "text": [
            "seinfeld-chronicles.zip: Skipping, found more recently modified local copy (use --force to force download)\n"
          ],
          "name": "stdout"
        }
      ]
    },
    {
      "cell_type": "code",
      "metadata": {
        "id": "efkkK12f88ZD",
        "colab_type": "code",
        "colab": {
          "base_uri": "https://localhost:8080/",
          "height": 51
        },
        "outputId": "5264f416-34a8-440c-bf2a-5d18443b089c"
      },
      "source": [
        "#unzip the folder downloaded from kaggle\n",
        "!unzip 'seinfeld-chronicles.zip'"
      ],
      "execution_count": 17,
      "outputs": [
        {
          "output_type": "stream",
          "text": [
            "Archive:  seinfeld-chronicles.zip\n",
            "replace episode_info.csv? [y]es, [n]o, [A]ll, [N]one, [r]ename: N\n"
          ],
          "name": "stdout"
        }
      ]
    },
    {
      "cell_type": "markdown",
      "metadata": {
        "id": "MiROKs5x-Mx3",
        "colab_type": "text"
      },
      "source": [
        "Getting some helper classes"
      ]
    },
    {
      "cell_type": "code",
      "metadata": {
        "id": "D31Sv3Ha95pb",
        "colab_type": "code",
        "colab": {
          "base_uri": "https://localhost:8080/",
          "height": 224
        },
        "outputId": "34efea57-e712-4f66-c15c-59d404b0d7fc"
      },
      "source": [
        "!wget https://raw.githubusercontent.com/udacity/deep-learning-v2-pytorch/master/project-tv-script-generation/helper.py\n"
      ],
      "execution_count": 18,
      "outputs": [
        {
          "output_type": "stream",
          "text": [
            "--2020-06-11 08:11:25--  https://raw.githubusercontent.com/udacity/deep-learning-v2-pytorch/master/project-tv-script-generation/helper.py\n",
            "Resolving raw.githubusercontent.com (raw.githubusercontent.com)... 151.101.0.133, 151.101.64.133, 151.101.128.133, ...\n",
            "Connecting to raw.githubusercontent.com (raw.githubusercontent.com)|151.101.0.133|:443... connected.\n",
            "HTTP request sent, awaiting response... 200 OK\n",
            "Length: 1407 (1.4K) [text/plain]\n",
            "Saving to: ‘helper.py.1’\n",
            "\n",
            "\rhelper.py.1           0%[                    ]       0  --.-KB/s               \rhelper.py.1         100%[===================>]   1.37K  --.-KB/s    in 0s      \n",
            "\n",
            "2020-06-11 08:11:26 (18.6 MB/s) - ‘helper.py.1’ saved [1407/1407]\n",
            "\n"
          ],
          "name": "stdout"
        }
      ]
    },
    {
      "cell_type": "code",
      "metadata": {
        "id": "5epIObis-J1p",
        "colab_type": "code",
        "colab": {
          "base_uri": "https://localhost:8080/",
          "height": 224
        },
        "outputId": "c2c3364d-b161-4fa5-c4a8-98dfb13f7731"
      },
      "source": [
        "!wget https://raw.githubusercontent.com/udacity/deep-learning-v2-pytorch/master/project-tv-script-generation/problem_unittests.py"
      ],
      "execution_count": 25,
      "outputs": [
        {
          "output_type": "stream",
          "text": [
            "--2020-06-11 08:12:48--  https://raw.githubusercontent.com/udacity/deep-learning-v2-pytorch/master/project-tv-script-generation/problem_unittests.py\n",
            "Resolving raw.githubusercontent.com (raw.githubusercontent.com)... 151.101.0.133, 151.101.64.133, 151.101.128.133, ...\n",
            "Connecting to raw.githubusercontent.com (raw.githubusercontent.com)|151.101.0.133|:443... connected.\n",
            "HTTP request sent, awaiting response... 200 OK\n",
            "Length: 10060 (9.8K) [text/plain]\n",
            "Saving to: ‘problem_unittests.py’\n",
            "\n",
            "\rproblem_unittests.p   0%[                    ]       0  --.-KB/s               \rproblem_unittests.p 100%[===================>]   9.82K  --.-KB/s    in 0s      \n",
            "\n",
            "2020-06-11 08:12:48 (93.0 MB/s) - ‘problem_unittests.py’ saved [10060/10060]\n",
            "\n"
          ],
          "name": "stdout"
        }
      ]
    },
    {
      "cell_type": "code",
      "metadata": {
        "id": "XHiuV4F0-VbE",
        "colab_type": "code",
        "colab": {
          "base_uri": "https://localhost:8080/",
          "height": 224
        },
        "outputId": "6e82fb0a-b9ea-4e46-8bb5-39e7724e3e41"
      },
      "source": [
        "!wget https://s3.amazonaws.com/video.udacity-data.com/topher/2018/May/5b0dea96_workspace-utils/workspace-utils.py"
      ],
      "execution_count": 20,
      "outputs": [
        {
          "output_type": "stream",
          "text": [
            "--2020-06-11 08:11:30--  https://s3.amazonaws.com/video.udacity-data.com/topher/2018/May/5b0dea96_workspace-utils/workspace-utils.py\n",
            "Resolving s3.amazonaws.com (s3.amazonaws.com)... 52.216.176.13\n",
            "Connecting to s3.amazonaws.com (s3.amazonaws.com)|52.216.176.13|:443... connected.\n",
            "HTTP request sent, awaiting response... 200 OK\n",
            "Length: 1540 (1.5K) []\n",
            "Saving to: ‘workspace-utils.py.1’\n",
            "\n",
            "\rworkspace-utils.py.   0%[                    ]       0  --.-KB/s               \rworkspace-utils.py. 100%[===================>]   1.50K  --.-KB/s    in 0s      \n",
            "\n",
            "2020-06-11 08:11:30 (60.4 MB/s) - ‘workspace-utils.py.1’ saved [1540/1540]\n",
            "\n"
          ],
          "name": "stdout"
        }
      ]
    },
    {
      "cell_type": "code",
      "metadata": {
        "id": "9L644vgpy-lL",
        "colab_type": "code",
        "colab": {}
      },
      "source": [
        "\"\"\"\n",
        "DON'T MODIFY ANYTHING IN THIS CELL\n",
        "\"\"\"\n",
        "# load in data\n",
        "import helper\n",
        "\n",
        "data_dir = '/content/scripts.csv'\n",
        "text = helper.load_data(data_dir)"
      ],
      "execution_count": 0,
      "outputs": []
    },
    {
      "cell_type": "markdown",
      "metadata": {
        "id": "lSjYATKyy-lP",
        "colab_type": "text"
      },
      "source": [
        "## Explore the Data\n",
        "Play around with `view_line_range` to view different parts of the data. This will give you a sense of the data you'll be working with. You can see, for example, that it is all lowercase text, and each new line of dialogue is separated by a newline character `\\n`."
      ]
    },
    {
      "cell_type": "code",
      "metadata": {
        "id": "6LJVgQv0y-lQ",
        "colab_type": "code",
        "colab": {
          "base_uri": "https://localhost:8080/",
          "height": 649
        },
        "outputId": "c72f1d29-29cb-45eb-af59-71ac926b2014"
      },
      "source": [
        "view_line_range = (0, 30)\n",
        "\n",
        "\"\"\"\n",
        "DON'T MODIFY ANYTHING IN THIS CELL THAT IS BELOW THIS LINE\n",
        "\"\"\"\n",
        "import numpy as np\n",
        "\n",
        "print('Dataset Stats')\n",
        "print('Roughly the number of unique words: {}'.format(len({word: None for word in text.split()})))\n",
        "\n",
        "lines = text.split('\\n')\n",
        "print('Number of lines: {}'.format(len(lines)))\n",
        "word_count_line = [len(line.split()) for line in lines]\n",
        "print('Average number of words in each line: {}'.format(np.average(word_count_line)))\n",
        "\n",
        "print()\n",
        "print('The lines {} to {}:'.format(*view_line_range))\n",
        "print('\\n'.join(text.split('\\n')[view_line_range[0]:view_line_range[1]]))"
      ],
      "execution_count": 27,
      "outputs": [
        {
          "output_type": "stream",
          "text": [
            "Dataset Stats\n",
            "Roughly the number of unique words: 135907\n",
            "Number of lines: 54618\n",
            "Average number of words in each line: 10.08817605917463\n",
            "\n",
            "The lines 0 to 30:\n",
            ",Character,Dialogue,EpisodeNo,SEID,Season\n",
            "0,JERRY,\"Do you know what this is all about? Do you know, why were here? To be out, this is out...and out is one of the single most enjoyable experiences of life. People...did you ever hear people talking about We should go out? This is what theyre talking about...this whole thing, were all out now, no one is home. Not one person here is home, were all out! There are people tryin to find us, they dont know where we are. (on an imaginary phone) Did you ring?, I cant find him. Where did he go? He didnt tell me where he was going. He must have gone out. You wanna go out you get ready, you pick out the clothes, right? You take the shower, you get all ready, get the cash, get your friends, the car, the spot, the reservation...Then youre standing around, whatta you do? You go We gotta be getting back. Once youre out, you wanna get back! You wanna go to sleep, you wanna get up, you wanna go out again tomorrow, right? Where ever you are in life, its my feeling, youve gotta go.\",1.0,S01E01,1.0\n",
            "1,JERRY,\"(pointing at Georges shirt) See, to me, that button is in the worst possible spot. The second button literally makes or breaks the shirt, look at it. Its too high! Its in no-mans-land. You look like you live with your mother.\",1.0,S01E01,1.0\n",
            "2,GEORGE,Are you through?,1.0,S01E01,1.0\n",
            "3,JERRY,\"You do of course try on, when you buy?\",1.0,S01E01,1.0\n",
            "4,GEORGE,\"Yes, it was purple, I liked it, I dont actually recall considering the buttons.\",1.0,S01E01,1.0\n",
            "5,JERRY,\"Oh, you dont recall?\",1.0,S01E01,1.0\n",
            "6,GEORGE,\"(on an imaginary microphone) Uh, no, not at this time.\",1.0,S01E01,1.0\n",
            "7,JERRY,\"Well, senator, Id just like to know, what you knew and when you knew it.\",1.0,S01E01,1.0\n",
            "8,CLAIRE,Mr. Seinfeld. Mr. Costanza.,1.0,S01E01,1.0\n",
            "9,GEORGE,\"Are, are you sure this is decaf? Wheres the orange indicator?\",1.0,S01E01,1.0\n",
            "10,CLAIRE,\"Its missing, I have to do it in my head decaf left, regular right, decaf left, regular right...its very challenging work.\",1.0,S01E01,1.0\n",
            "11,JERRY,\"Can you relax, its a cup of coffee. Claire is a professional waitress.\",1.0,S01E01,1.0\n",
            "12,CLAIRE,Trust me George. No one has any interest in seeing you on caffeine.,1.0,S01E01,1.0\n",
            "13,GEORGE,How come youre not doin the second show tomorrow?,1.0,S01E01,1.0\n",
            "14,JERRY,\"Well, theres this uh, woman might be comin in.\",1.0,S01E01,1.0\n",
            "15,GEORGE,\"Wait a second, wait a second, what coming in, what woman is coming in?\",1.0,S01E01,1.0\n",
            "16,JERRY,\"I told you about Laura, the girl I met in Michigan?\",1.0,S01E01,1.0\n",
            "17,GEORGE,\"No, you didnt!\",1.0,S01E01,1.0\n",
            "18,JERRY,\"I thought I told you about it, yes, she teaches political science? I met her the night I did the show in Lansing...\",1.0,S01E01,1.0\n",
            "19,GEORGE,Ha.,1.0,S01E01,1.0\n",
            "20,JERRY,\"(looks in the creamer) Theres no milk in here, what...\",1.0,S01E01,1.0\n",
            "21,GEORGE,\"Wait wait wait, what is she... (takes the milk can from Jerry and puts it on the table) What is she like?\",1.0,S01E01,1.0\n",
            "22,JERRY,\"Oh, shes really great. I mean, shes got like a real warmth about her and shes really bright and really pretty and uh... the conversation though, I mean, it was... talking with her is like talking with you, but, you know, obviously much better.\",1.0,S01E01,1.0\n",
            "23,GEORGE,\"(smiling) So, you know, what, what happened?\",1.0,S01E01,1.0\n",
            "24,JERRY,\"Oh, nothing happened, you know, but is was great.\",1.0,S01E01,1.0\n",
            "25,GEORGE,\"Oh, nothing happened, but it was...\",1.0,S01E01,1.0\n",
            "26,JERRY,Yeah.,1.0,S01E01,1.0\n",
            "27,GEORGE,This is great!,1.0,S01E01,1.0\n",
            "28,JERRY,Yeah.,1.0,S01E01,1.0\n"
          ],
          "name": "stdout"
        }
      ]
    },
    {
      "cell_type": "markdown",
      "metadata": {
        "id": "24pKIgUvy-lV",
        "colab_type": "text"
      },
      "source": [
        "---\n",
        "## Implement Pre-processing Functions\n",
        "The first thing to do to any dataset is pre-processing.  Implement the following pre-processing functions below:\n",
        "- Lookup Table\n",
        "- Tokenize Punctuation\n",
        "\n",
        "### Lookup Table\n",
        "To create a word embedding, you first need to transform the words to ids.  In this function, create two dictionaries:\n",
        "- Dictionary to go from the words to an id, we'll call `vocab_to_int`\n",
        "- Dictionary to go from the id to word, we'll call `int_to_vocab`\n",
        "\n",
        "Return these dictionaries in the following **tuple** `(vocab_to_int, int_to_vocab)`"
      ]
    },
    {
      "cell_type": "code",
      "metadata": {
        "id": "opKwLkRJy-lW",
        "colab_type": "code",
        "colab": {
          "base_uri": "https://localhost:8080/",
          "height": 34
        },
        "outputId": "d5c4358d-c7aa-4141-a4c8-ecc9c4a6a6c0"
      },
      "source": [
        "import problem_unittests as tests\n",
        "from collections import Counter\n",
        "\n",
        "def create_lookup_tables(text):\n",
        "    \"\"\"\n",
        "    Create lookup tables for vocabulary\n",
        "    :param text: The text of tv scripts split into words\n",
        "    :return: A tuple of dicts (vocab_to_int, int_to_vocab)\n",
        "    \"\"\"\n",
        "    # TODO: Implement Function\n",
        "    vocab = tuple(set(text))\n",
        "    vocab_to_int = {word:ii for ii, word in enumerate(vocab)}\n",
        "    \n",
        "    int_to_vocab = {ii:word for word, ii in vocab_to_int.items()}\n",
        "    # return tuple\n",
        "    return (vocab_to_int, int_to_vocab)\n",
        "\n",
        "\n",
        "\"\"\"\n",
        "DON'T MODIFY ANYTHING IN THIS CELL THAT IS BELOW THIS LINE\n",
        "\"\"\"\n",
        "tests.test_create_lookup_tables(create_lookup_tables)"
      ],
      "execution_count": 28,
      "outputs": [
        {
          "output_type": "stream",
          "text": [
            "Tests Passed\n"
          ],
          "name": "stdout"
        }
      ]
    },
    {
      "cell_type": "markdown",
      "metadata": {
        "id": "WsLcj0gBy-la",
        "colab_type": "text"
      },
      "source": [
        "### Tokenize Punctuation\n",
        "We'll be splitting the script into a word array using spaces as delimiters.  However, punctuations like periods and exclamation marks can create multiple ids for the same word. For example, \"bye\" and \"bye!\" would generate two different word ids.\n",
        "\n",
        "Implement the function `token_lookup` to return a dict that will be used to tokenize symbols like \"!\" into \"||Exclamation_Mark||\".  Create a dictionary for the following symbols where the symbol is the key and value is the token:\n",
        "- Period ( **.** )\n",
        "- Comma ( **,** )\n",
        "- Quotation Mark ( **\"** )\n",
        "- Semicolon ( **;** )\n",
        "- Exclamation mark ( **!** )\n",
        "- Question mark ( **?** )\n",
        "- Left Parentheses ( **(** )\n",
        "- Right Parentheses ( **)** )\n",
        "- Dash ( **-** )\n",
        "- Return ( **\\n** )\n",
        "\n",
        "This dictionary will be used to tokenize the symbols and add the delimiter (space) around it.  This separates each symbols as its own word, making it easier for the neural network to predict the next word. Make sure you don't use a value that could be confused as a word; for example, instead of using the value \"dash\", try using something like \"||dash||\"."
      ]
    },
    {
      "cell_type": "code",
      "metadata": {
        "id": "YtDjRA0-y-lb",
        "colab_type": "code",
        "colab": {
          "base_uri": "https://localhost:8080/",
          "height": 34
        },
        "outputId": "61453fa5-d21d-44db-a3e7-e8684b10e4dc"
      },
      "source": [
        "def token_lookup():\n",
        "    \"\"\"\n",
        "    Generate a dict to turn punctuation into a token.\n",
        "    :return: Tokenized dictionary where the key is the punctuation and the value is the token\n",
        "    \"\"\"\n",
        "    # TODO: Implement Function\n",
        "    punct_to_token = {'.':'||period||', ',':'||comma||', '\"':'||sutation_mark||', ';':'||semicolon||',\n",
        "                      '!': '||exclamation_mark||', '?':'||question_mark||', '(':'||left_parentheses||',\n",
        "                      ')':'||right_parentheses||', '-':'||dash||', '\\n':'||return||'}\n",
        "    return punct_to_token\n",
        "\n",
        "\"\"\"\n",
        "DON'T MODIFY ANYTHING IN THIS CELL THAT IS BELOW THIS LINE\n",
        "\"\"\"\n",
        "tests.test_tokenize(token_lookup)"
      ],
      "execution_count": 29,
      "outputs": [
        {
          "output_type": "stream",
          "text": [
            "Tests Passed\n"
          ],
          "name": "stdout"
        }
      ]
    },
    {
      "cell_type": "markdown",
      "metadata": {
        "id": "luJijAy8y-lg",
        "colab_type": "text"
      },
      "source": [
        "## Pre-process all the data and save it\n",
        "\n",
        "Running the code cell below will pre-process all the data and save it to file. You're encouraged to lok at the code for `preprocess_and_save_data` in the `helpers.py` file to see what it's doing in detail, but you do not need to change this code."
      ]
    },
    {
      "cell_type": "code",
      "metadata": {
        "id": "RXA7Vuqcy-lh",
        "colab_type": "code",
        "colab": {}
      },
      "source": [
        "\"\"\"\n",
        "DON'T MODIFY ANYTHING IN THIS CELL\n",
        "\"\"\"\n",
        "# pre-process training data\n",
        "helper.preprocess_and_save_data(data_dir, token_lookup, create_lookup_tables)"
      ],
      "execution_count": 0,
      "outputs": []
    },
    {
      "cell_type": "markdown",
      "metadata": {
        "id": "wyXaQC_Sy-ll",
        "colab_type": "text"
      },
      "source": [
        "# Check Point\n",
        "This is your first checkpoint. If you ever decide to come back to this notebook or have to restart the notebook, you can start from here. The preprocessed data has been saved to disk."
      ]
    },
    {
      "cell_type": "code",
      "metadata": {
        "id": "ESJTrCHuy-lm",
        "colab_type": "code",
        "colab": {}
      },
      "source": [
        "\"\"\"\n",
        "DON'T MODIFY ANYTHING IN THIS CELL\n",
        "\"\"\"\n",
        "import helper\n",
        "import problem_unittests as tests\n",
        "\n",
        "int_text, vocab_to_int, int_to_vocab, token_dict = helper.load_preprocess()"
      ],
      "execution_count": 0,
      "outputs": []
    },
    {
      "cell_type": "markdown",
      "metadata": {
        "id": "nZ0ed8UAy-lq",
        "colab_type": "text"
      },
      "source": [
        "## Build the Neural Network\n",
        "In this section, you'll build the components necessary to build an RNN by implementing the RNN Module and forward and backpropagation functions.\n",
        "\n",
        "### Check Access to GPU"
      ]
    },
    {
      "cell_type": "code",
      "metadata": {
        "id": "Ch7dZnkfy-lq",
        "colab_type": "code",
        "colab": {}
      },
      "source": [
        "\"\"\"\n",
        "DON'T MODIFY ANYTHING IN THIS CELL\n",
        "\"\"\"\n",
        "import torch\n",
        "\n",
        "# Check for a GPU\n",
        "train_on_gpu = torch.cuda.is_available()\n",
        "if not train_on_gpu:\n",
        "    print('No GPU found. Please use a GPU to train your neural network.')"
      ],
      "execution_count": 0,
      "outputs": []
    },
    {
      "cell_type": "markdown",
      "metadata": {
        "id": "BddcvWQZy-lt",
        "colab_type": "text"
      },
      "source": [
        "## Input\n",
        "Let's start with the preprocessed input data. We'll use [TensorDataset](http://pytorch.org/docs/master/data.html#torch.utils.data.TensorDataset) to provide a known format to our dataset; in combination with [DataLoader](http://pytorch.org/docs/master/data.html#torch.utils.data.DataLoader), it will handle batching, shuffling, and other dataset iteration functions.\n",
        "\n",
        "You can create data with TensorDataset by passing in feature and target tensors. Then create a DataLoader as usual.\n",
        "```\n",
        "data = TensorDataset(feature_tensors, target_tensors)\n",
        "data_loader = torch.utils.data.DataLoader(data, \n",
        "                                          batch_size=batch_size)\n",
        "```\n",
        "\n",
        "### Batching\n",
        "Implement the `batch_data` function to batch `words` data into chunks of size `batch_size` using the `TensorDataset` and `DataLoader` classes.\n",
        "\n",
        ">You can batch words using the DataLoader, but it will be up to you to create `feature_tensors` and `target_tensors` of the correct size and content for a given `sequence_length`.\n",
        "\n",
        "For example, say we have these as input:\n",
        "```\n",
        "words = [1, 2, 3, 4, 5, 6, 7]\n",
        "sequence_length = 4\n",
        "```\n",
        "\n",
        "Your first `feature_tensor` should contain the values:\n",
        "```\n",
        "[1, 2, 3, 4]\n",
        "```\n",
        "And the corresponding `target_tensor` should just be the next \"word\"/tokenized word value:\n",
        "```\n",
        "5\n",
        "```\n",
        "This should continue with the second `feature_tensor`, `target_tensor` being:\n",
        "```\n",
        "[2, 3, 4, 5]  # features\n",
        "6             # target\n",
        "```"
      ]
    },
    {
      "cell_type": "code",
      "metadata": {
        "id": "kXaY76ZLy-lu",
        "colab_type": "code",
        "colab": {}
      },
      "source": [
        "def get_tensors(words, seq_length):\n",
        "    \n",
        "    '''Create feature and target tensors.       \n",
        "       Arguments\n",
        "       ---------\n",
        "       words: Array you want to make tensors from\n",
        "       seq_length: Number of encoded chars in a sequence\n",
        "       :return: feature and target tensors\n",
        "    '''\n",
        "    \n",
        "    n_targets = len(words) - seq_length\n",
        "    \n",
        "    feature, target = [], []\n",
        "    \n",
        "    for ii in range(n_targets): \n",
        "        \n",
        "        x = words[ii:ii+seq_length]\n",
        "        y = words[ii+seq_length]\n",
        "        \n",
        "        feature.append(x)      \n",
        "        target.append(y) # the next words for each sequence\n",
        "\n",
        "    feature_tensor, target_tensor = torch.from_numpy(np.array(feature)), torch.from_numpy(np.array(target))\n",
        "    \n",
        "    return feature_tensor, target_tensor"
      ],
      "execution_count": 0,
      "outputs": []
    },
    {
      "cell_type": "code",
      "metadata": {
        "id": "qa8AGq81y-lx",
        "colab_type": "code",
        "colab": {},
        "outputId": "b6ddae61-3ec7-4c75-fc5e-708aecf10cf1"
      },
      "source": [
        "# test features and tartget generator\n",
        "words = [1, 2, 3, 4, 5, 6, 7]\n",
        "x, y  = get_tensors(words, seq_length=4)\n",
        "print(\"The feature tensor:\\n {}\\n\".format(x))\n",
        "\n",
        "print(\"The target tensor: {}\\n\".format(y))\n"
      ],
      "execution_count": 0,
      "outputs": [
        {
          "output_type": "stream",
          "text": [
            "The feature tensor:\n",
            " tensor([[ 1,  2,  3,  4],\n",
            "        [ 2,  3,  4,  5],\n",
            "        [ 3,  4,  5,  6]])\n",
            "\n",
            "The target tensor: tensor([ 5,  6,  7])\n",
            "\n"
          ],
          "name": "stdout"
        }
      ]
    },
    {
      "cell_type": "markdown",
      "metadata": {
        "id": "KKcf0bF5y-l2",
        "colab_type": "text"
      },
      "source": [
        "Now that our features and targets are looking good, let's create the data loader!"
      ]
    },
    {
      "cell_type": "code",
      "metadata": {
        "id": "jrlDBQu6y-l4",
        "colab_type": "code",
        "colab": {}
      },
      "source": [
        "from torch.utils.data import TensorDataset, DataLoader\n",
        "from numpy import array\n",
        "\n",
        "\n",
        "def batch_data(words, sequence_length, batch_size):\n",
        "    \"\"\"\n",
        "    Batch the neural network data using DataLoader\n",
        "    :param words: The word ids of the TV scripts\n",
        "    :param sequence_length: The sequence length of each batch\n",
        "    :param batch_size: The size of each batch; the number of sequences in a batch\n",
        "    :return: DataLoader with batched data\n",
        "    \"\"\"\n",
        "    # the amount of data for training\n",
        "    split_frac = .8\n",
        "    # TODO: Implement function\n",
        "    # Get our features and targets arrays\n",
        "    feature_tensor, target_tensor = get_tensors(words, sequence_length)\n",
        "    \n",
        "    #split data into training and validation set\n",
        "    split_idx = int(len(feature_tensor)*split_frac)\n",
        "    train_x, valid_x = feature_tensor[:split_idx], feature_tensor[split_idx:]\n",
        "    train_y, valid_y = target_tensor[:split_idx], target_tensor[split_idx:]\n",
        "    \n",
        "    # Create our custom dataset\n",
        "    train_data = TensorDataset(train_x, train_y)\n",
        "    valid_data = TensorDataset(valid_x, valid_y)\n",
        "    \n",
        "    train_loader = DataLoader(train_data, batch_size=batch_size, shuffle=True)\n",
        "    valid_loader = DataLoader(valid_data, batch_size=batch_size, shuffle=True, drop_last=True )\n",
        "\n",
        "    # return dataloaders\n",
        "    return train_loader, valid_loader\n"
      ],
      "execution_count": 0,
      "outputs": []
    },
    {
      "cell_type": "markdown",
      "metadata": {
        "id": "7BR_I1ymy-l8",
        "colab_type": "text"
      },
      "source": [
        "### Test your dataloader \n",
        "\n",
        "You'll have to modify this code to test a batching function, but it should look fairly similar.\n",
        "\n",
        "Below, we're generating some test text data and defining a dataloader using the function you defined, above. Then, we are getting some sample batch of inputs `sample_x` and targets `sample_y` from our dataloader.\n",
        "\n",
        "Your code should return something like the following (likely in a different order, if you shuffled your data):\n",
        "\n",
        "```\n",
        "torch.Size([10, 5])\n",
        "tensor([[ 28,  29,  30,  31,  32],\n",
        "        [ 21,  22,  23,  24,  25],\n",
        "        [ 17,  18,  19,  20,  21],\n",
        "        [ 34,  35,  36,  37,  38],\n",
        "        [ 11,  12,  13,  14,  15],\n",
        "        [ 23,  24,  25,  26,  27],\n",
        "        [  6,   7,   8,   9,  10],\n",
        "        [ 38,  39,  40,  41,  42],\n",
        "        [ 25,  26,  27,  28,  29],\n",
        "        [  7,   8,   9,  10,  11]])\n",
        "\n",
        "torch.Size([10])\n",
        "tensor([ 33,  26,  22,  39,  16,  28,  11,  43,  30,  12])\n",
        "```\n",
        "\n",
        "### Sizes\n",
        "Your sample_x should be of size `(batch_size, sequence_length)` or (10, 5) in this case and sample_y should just have one dimension: batch_size (10). \n",
        "\n",
        "### Values\n",
        "\n",
        "You should also notice that the targets, sample_y, are the *next* value in the ordered test_text data. So, for an input sequence `[ 28,  29,  30,  31,  32]` that ends with the value `32`, the corresponding output should be `33`."
      ]
    },
    {
      "cell_type": "code",
      "metadata": {
        "id": "-tYV9psry-l9",
        "colab_type": "code",
        "colab": {},
        "outputId": "159894eb-82a3-4236-c8a9-84abb1994645"
      },
      "source": [
        "# test dataloader\n",
        "test_text = range(50)\n",
        "t_loader, v_loader = batch_data(test_text, sequence_length=5, batch_size=10)\n",
        "\n",
        "data_iter = iter(t_loader)\n",
        "sample_x, sample_y = data_iter.next()\n",
        "\n",
        "print(sample_x.shape)\n",
        "print(sample_x)\n",
        "print()\n",
        "print(sample_y.shape)\n",
        "print(sample_y)\n"
      ],
      "execution_count": 0,
      "outputs": [
        {
          "output_type": "stream",
          "text": [
            "torch.Size([10, 5])\n",
            "tensor([[  1,   2,   3,   4,   5],\n",
            "        [ 20,  21,  22,  23,  24],\n",
            "        [  4,   5,   6,   7,   8],\n",
            "        [ 29,  30,  31,  32,  33],\n",
            "        [ 18,  19,  20,  21,  22],\n",
            "        [  9,  10,  11,  12,  13],\n",
            "        [ 15,  16,  17,  18,  19],\n",
            "        [ 11,  12,  13,  14,  15],\n",
            "        [ 24,  25,  26,  27,  28],\n",
            "        [ 28,  29,  30,  31,  32]])\n",
            "\n",
            "torch.Size([10])\n",
            "tensor([  6,  25,   9,  34,  23,  14,  20,  16,  29,  33])\n"
          ],
          "name": "stdout"
        }
      ]
    },
    {
      "cell_type": "markdown",
      "metadata": {
        "id": "zarGVVBcy-mA",
        "colab_type": "text"
      },
      "source": [
        "---\n",
        "## Build the Neural Network\n",
        "Implement an RNN using PyTorch's [Module class](http://pytorch.org/docs/master/nn.html#torch.nn.Module). You may choose to use a GRU or an LSTM. To complete the RNN, you'll have to implement the following functions for the class:\n",
        " - `__init__` - The initialize function. \n",
        " - `init_hidden` - The initialization function for an LSTM/GRU hidden state\n",
        " - `forward` - Forward propagation function.\n",
        " \n",
        "The initialize function should create the layers of the neural network and save them to the class. The forward propagation function will use these layers to run forward propagation and generate an output and a hidden state.\n",
        "\n",
        "**The output of this model should be the *last* batch of word scores** after a complete sequence has been processed. That is, for each input sequence of words, we only want to output the word scores for a single, most likely, next word.\n",
        "\n",
        "### Hints\n",
        "\n",
        "1. Make sure to stack the outputs of the lstm to pass to your fully-connected layer, you can do this with `lstm_output = lstm_output.contiguous().view(-1, self.hidden_dim)`\n",
        "2. You can get the last batch of word scores by shaping the output of the final, fully-connected layer like so:\n",
        "\n",
        "```\n",
        "# reshape into (batch_size, seq_length, output_size)\n",
        "output = output.view(batch_size, -1, self.output_size)\n",
        "# get last batch\n",
        "out = output[:, -1]\n",
        "```"
      ]
    },
    {
      "cell_type": "code",
      "metadata": {
        "id": "MmTAXDG2y-mA",
        "colab_type": "code",
        "colab": {},
        "outputId": "803fa8aa-ea75-49c2-f3e8-7f014af5f19c"
      },
      "source": [
        "import torch.nn as nn\n",
        "\n",
        "class RNN(nn.Module):\n",
        "    \n",
        "    def __init__(self, vocab_size, output_size, embedding_dim, hidden_dim, n_layers, dropout=0.5):\n",
        "        \"\"\"\n",
        "        Initialize the PyTorch RNN Module\n",
        "        :param vocab_size: The number of input dimensions of the neural network (the size of the vocabulary)\n",
        "        :param output_size: The number of output dimensions of the neural network\n",
        "        :param embedding_dim: The size of embeddings, should you choose to use them        \n",
        "        :param hidden_dim: The size of the hidden layer outputs\n",
        "        :param dropout: dropout to add in between LSTM/GRU layers\n",
        "        \"\"\"\n",
        "        super(RNN, self).__init__()\n",
        "        # TODO: Implement function\n",
        "        \n",
        "        # set class variables\n",
        "        self.output_size = output_size\n",
        "        self.n_layers = n_layers\n",
        "        self.hidden_dim = hidden_dim\n",
        "        \n",
        "        # define model layers\n",
        "        self.embedding = nn.Embedding(vocab_size, embedding_dim=embedding_dim)\n",
        "        \n",
        "        # apply a uniform distribution to the weights and a bias=0\n",
        "        self.embedding.weight.data.normal_(0, 1)\n",
        "    \n",
        "   \n",
        "        self.lstm = nn.LSTM(embedding_dim, hidden_dim, \n",
        "                           n_layers, dropout=dropout, batch_first=True)\n",
        "        self.dropout = nn.Dropout(0.5)\n",
        "        \n",
        "        self.fc = nn.Linear(hidden_dim, output_size)\n",
        "    \n",
        "    def forward(self, nn_input, hidden):\n",
        "        \"\"\"\n",
        "        Forward propagation of the neural network\n",
        "        :param nn_input: The input to the neural network\n",
        "        :param hidden: The hidden state        \n",
        "        :return: Two Tensors, the output of the neural network and the latest hidden state\n",
        "        \"\"\"\n",
        "        # TODO: Implement function\n",
        "        batch_size = nn_input.size(0)\n",
        "        \n",
        "        em_out = self.embedding(nn_input)\n",
        "       \n",
        "        rnn_out, hidden = self.lstm(em_out, hidden)\n",
        "        \n",
        "        # Stack the lstm outputs\n",
        "        rnn_out = rnn_out.contiguous().view(-1, self.hidden_dim)\n",
        "        \n",
        "        # Perform dropout\n",
        "        out = self.dropout(rnn_out)\n",
        "        \n",
        "        # Put the RNN output through the fully connected layer an sigmoid\n",
        "        out = self.fc(out)\n",
        "        # Reshape to batch size first\n",
        "        out = out.view(batch_size, -1, self.output_size)\n",
        "        # Get the last batch\n",
        "        out = out[:, -1]\n",
        "\n",
        "        # return one batch of output word scores and the hidden state\n",
        "        return out, hidden\n",
        "    \n",
        "    \n",
        "    def init_hidden(self, batch_size):\n",
        "        '''\n",
        "        Initialize the hidden state of an LSTM/GRU\n",
        "        :param batch_size: The batch_size of the hidden state\n",
        "        :return: hidden state of dims (n_layers, batch_size, hidden_dim)\n",
        "        '''\n",
        "        # Implement function\n",
        "        weight = next(self.parameters()).data\n",
        "        # initialize hidden state with zero weights, and move to GPU if available\n",
        "        if(train_on_gpu):\n",
        "            CUDA_LAUNCH_BLOCKING=1\n",
        "            hidden = (weight.new(self.n_layers, batch_size, self.hidden_dim).zero_().cuda(),\n",
        "                  weight.new(self.n_layers, batch_size, self.hidden_dim).zero_().cuda())\n",
        "        else:\n",
        "            hidden = (weight.new(self.n_layers, batch_size, self.hidden_dim).zero_(),\n",
        "                      weight.new(self.n_layers, batch_size, self.hidden_dim).zero_())\n",
        "        return hidden\n",
        "\n",
        "\"\"\"\n",
        "DON'T MODIFY ANYTHING IN THIS CELL THAT IS BELOW THIS LINE\n",
        "\"\"\"\n",
        "tests.test_rnn(RNN, train_on_gpu)"
      ],
      "execution_count": 0,
      "outputs": [
        {
          "output_type": "stream",
          "text": [
            "Tests Passed\n"
          ],
          "name": "stdout"
        }
      ]
    },
    {
      "cell_type": "markdown",
      "metadata": {
        "id": "Ttf9M_lSy-mE",
        "colab_type": "text"
      },
      "source": [
        "### Define forward and backpropagation\n",
        "\n",
        "Use the RNN class you implemented to apply forward and back propagation. This function will be called, iteratively, in the training loop as follows:\n",
        "```\n",
        "loss = forward_back_prop(decoder, decoder_optimizer, criterion, inp, target)\n",
        "```\n",
        "\n",
        "And it should return the average loss over a batch and the hidden state returned by a call to `RNN(inp, hidden)`. Recall that you can get this loss by computing it, as usual, and calling `loss.item()`.\n",
        "\n",
        "**If a GPU is available, you should move your data to that GPU device, here.**"
      ]
    },
    {
      "cell_type": "code",
      "metadata": {
        "id": "Dh-7G-Oay-mF",
        "colab_type": "code",
        "colab": {},
        "outputId": "a8d152d0-599e-40e5-ac3d-ec7c47d97197"
      },
      "source": [
        "def forward_back_prop(rnn, optimizer, criterion, inp, target, hidden):\n",
        "    \"\"\"\n",
        "    Forward and backward propagation on the neural network\n",
        "    :param decoder: The PyTorch Module that holds the neural network\n",
        "    :param decoder_optimizer: The PyTorch optimizer for the neural network\n",
        "    :param criterion: The PyTorch loss function\n",
        "    :param inp: A batch of input to the neural network\n",
        "    :param target: The target output for the batch of input\n",
        "    :return: The loss and the latest hidden state Tensor\n",
        "    \"\"\"\n",
        "    rnn.train()\n",
        "    # TODO: Implement Function\n",
        "    clip = 5\n",
        "    # move data to GPU, if available\n",
        "    if(train_on_gpu):\n",
        "        inp, target = inp.cuda(), target.cuda()\n",
        "        \n",
        "    # perform backpropagation and optimization\n",
        "\n",
        "    # Creating a new variable for the hidden state\n",
        "    # So we are not iterating through the entire training history\n",
        "    hidden = tuple([each.data for each in hidden])\n",
        "    \n",
        "    rnn.zero_grad()\n",
        "    \n",
        "    # Get the output from the model \n",
        "    output, hidden = rnn(inp, hidden)\n",
        "    \n",
        "    # Calculate the loss and perform the backpropagation\n",
        "    loss = criterion(output.squeeze(), target.long())\n",
        "    loss.backward()\n",
        "    \n",
        "    # Clip the gradient to prevent it from exploding\n",
        "    nn.utils.clip_grad_norm_(rnn.parameters(), clip)\n",
        "    # Perform the optimization step\n",
        "    optimizer.step()    \n",
        "     \n",
        "    # return the loss over a batch and the hidden state produced by our model\n",
        "    return loss.item(), hidden\n",
        "\n",
        "# Note that these tests aren't completely extensive.\n",
        "# they are here to act as general checks on the expected outputs of your functions\n",
        "\"\"\"\n",
        "DON'T MODIFY ANYTHING IN THIS CELL THAT IS BELOW THIS LINE\n",
        "\"\"\"\n",
        "tests.test_forward_back_prop(RNN, forward_back_prop, train_on_gpu)"
      ],
      "execution_count": 0,
      "outputs": [
        {
          "output_type": "stream",
          "text": [
            "Tests Passed\n"
          ],
          "name": "stdout"
        }
      ]
    },
    {
      "cell_type": "markdown",
      "metadata": {
        "id": "zc5KL9L3y-mJ",
        "colab_type": "text"
      },
      "source": [
        "## Neural Network Training\n",
        "\n",
        "With the structure of the network complete and data ready to be fed in the neural network, it's time to train it.\n",
        "\n",
        "### Train Loop\n",
        "\n",
        "The training loop is implemented for you in the `train_decoder` function. This function will train the network over all the batches for the number of epochs given. The model progress will be shown every number of batches. This number is set with the `show_every_n_batches` parameter. You'll set this parameter along with other parameters in the next section."
      ]
    },
    {
      "cell_type": "code",
      "metadata": {
        "id": "nLiG9DGiy-mJ",
        "colab_type": "code",
        "colab": {}
      },
      "source": [
        "\"\"\"\n",
        "DON'T MODIFY ANYTHING IN THIS CELL\n",
        "\"\"\"\n",
        "\n",
        "def train_rnn(rnn, batch_size, optimizer, criterion, n_epochs, show_every_n_batches=100):\n",
        "    batch_losses = []\n",
        "    max_loss = 3.4\n",
        "\n",
        "    print(\"Training for %d epoch(s)...\" % n_epochs)\n",
        "    for epoch_i in range(1, n_epochs + 1):\n",
        "        \n",
        "        # initialize hidden state\n",
        "        hidden = rnn.init_hidden(batch_size)\n",
        "        \n",
        "        for batch_i, (inputs, labels) in enumerate(train_loader, 1):\n",
        "            \n",
        "            # make sure you iterate over completely full batches, only\n",
        "            n_batches = len(train_loader.dataset)//batch_size\n",
        "            if(batch_i > n_batches):\n",
        "                break\n",
        "            \n",
        "            # forward, back prop\n",
        "            loss, hidden = forward_back_prop(rnn, optimizer, criterion, inputs, labels, hidden)          \n",
        "            # record loss\n",
        "            batch_losses.append(loss)           \n",
        "                \n",
        "            # printing loss stats\n",
        "            if batch_i % show_every_n_batches == 0:\n",
        "                 # Get the validation loss\n",
        "                val_hidden = rnn.init_hidden(batch_size)\n",
        "                val_losses = []\n",
        "            \n",
        "                rnn.eval()\n",
        "            \n",
        "                for inputs, labels in valid_loader:\n",
        "                    val_hidden = tuple([each.data for each in val_hidden])\n",
        "                    if(train_on_gpu):\n",
        "                        inputs, labels = inputs.cuda(), labels.cuda()\n",
        "                    output, val_hidden = rnn(inputs, val_hidden)\n",
        "                    val_loss = criterion(output.squeeze(), labels.long())                \n",
        "                    val_losses.append(val_loss.item())\n",
        "                    \n",
        "                    \n",
        "                print('Epoch: {:>4}/{:<4}  Train Loss: {}\\t\\tValid Loss: {}'.format(\n",
        "                    epoch_i, n_epochs, np.average(batch_losses)\n",
        "                    , np.average(val_losses)))\n",
        "                batch_losses = []\n",
        "    # returns a trained rnn\n",
        "    return rnn"
      ],
      "execution_count": 0,
      "outputs": []
    },
    {
      "cell_type": "markdown",
      "metadata": {
        "id": "DHKaGPdby-mP",
        "colab_type": "text"
      },
      "source": [
        "### Custome Training Function with Validation"
      ]
    },
    {
      "cell_type": "markdown",
      "metadata": {
        "id": "w-Fp_cKHy-mQ",
        "colab_type": "text"
      },
      "source": [
        "### Hyperparameters\n",
        "\n",
        "Set and train the neural network with the following parameters:\n",
        "- Set `sequence_length` to the length of a sequence.\n",
        "- Set `batch_size` to the batch size.\n",
        "- Set `num_epochs` to the number of epochs to train for.\n",
        "- Set `learning_rate` to the learning rate for an Adam optimizer.\n",
        "- Set `vocab_size` to the number of uniqe tokens in our vocabulary.\n",
        "- Set `output_size` to the desired size of the output.\n",
        "- Set `embedding_dim` to the embedding dimension; smaller than the vocab_size.\n",
        "- Set `hidden_dim` to the hidden dimension of your RNN.\n",
        "- Set `n_layers` to the number of layers/cells in your RNN.\n",
        "- Set `show_every_n_batches` to the number of batches at which the neural network should print progress.\n",
        "\n",
        "If the network isn't getting the desired results, tweak these parameters and/or the layers in the `RNN` class."
      ]
    },
    {
      "cell_type": "code",
      "metadata": {
        "id": "KniEY1STy-mQ",
        "colab_type": "code",
        "colab": {}
      },
      "source": [
        "# Data params\n",
        "# Sequence Length\n",
        "sequence_length = 10 # of words in a sequence\n",
        "# Batch Size\n",
        "batch_size = 128\n",
        "\n",
        "# data loader - do not change\n",
        "train_loader, valid_loader = batch_data(int_text, sequence_length, batch_size)"
      ],
      "execution_count": 0,
      "outputs": []
    },
    {
      "cell_type": "code",
      "metadata": {
        "id": "icm8l15cy-mT",
        "colab_type": "code",
        "colab": {}
      },
      "source": [
        "# Training parameters\n",
        "# Number of Epochs\n",
        "num_epochs = 20\n",
        "# Learning Rate\n",
        "learning_rate = 0.001\n",
        "\n",
        "# Model parameters\n",
        "# Vocab size\n",
        "vocab_size = len(vocab_to_int)\n",
        "# Output size\n",
        "output_size = vocab_size\n",
        "# Embedding Dimension\n",
        "embedding_dim = 400\n",
        "# Hidden Dimension\n",
        "hidden_dim = 512\n",
        "# Number of RNN Layers\n",
        "n_layers = 2\n",
        "\n",
        "# Show stats for every n number of batches\n",
        "show_every_n_batches = 500"
      ],
      "execution_count": 0,
      "outputs": []
    },
    {
      "cell_type": "markdown",
      "metadata": {
        "id": "PXzJgtdHy-mW",
        "colab_type": "text"
      },
      "source": [
        "### Train\n",
        "In the next cell, you'll train the neural network on the pre-processed data.  If you have a hard time getting a good loss, you may consider changing your hyperparameters. In general, you may get better results with larger hidden and n_layer dimensions, but larger models take a longer time to train. \n",
        "> **You should aim for a loss less than 3.5.** \n",
        "\n",
        "You should also experiment with different sequence lengths, which determine the size of the long range dependencies that a model can learn."
      ]
    },
    {
      "cell_type": "code",
      "metadata": {
        "scrolled": false,
        "id": "8vs1CTRLy-mX",
        "colab_type": "code",
        "colab": {},
        "outputId": "d0144f06-0295-4f82-ad82-66cbc2142955"
      },
      "source": [
        "\"\"\"\n",
        "DON'T MODIFY ANYTHING IN THIS CELL\n",
        "\"\"\"\n",
        "# create model and move to gpu if available\n",
        "rnn = RNN(vocab_size, output_size, embedding_dim, hidden_dim, n_layers, dropout=0.5)\n",
        "if train_on_gpu:\n",
        "    rnn.cuda()\n",
        "\n",
        "# defining loss and optimization functions for training\n",
        "optimizer = torch.optim.Adam(rnn.parameters(), lr=learning_rate)\n",
        "criterion = nn.CrossEntropyLoss()\n",
        "\n",
        "# training and saving the model\n",
        "with active_session():\n",
        "    trained_rnn = train_rnn(rnn, batch_size, optimizer, criterion, num_epochs, show_every_n_batches)\n",
        "\n",
        "# saving the trained model when it get to the \n",
        "helper.save_model('./save/trained_rnn', trained_rnn)\n",
        "print('Model Trained and Saved')"
      ],
      "execution_count": 0,
      "outputs": [
        {
          "output_type": "stream",
          "text": [
            "Training for 20 epoch(s)...\n",
            "Epoch:    1/20    Train Loss: 5.357387570381165\t\tValid Loss: 4.984765206150074\n",
            "Epoch:    1/20    Train Loss: 4.780675357818604\t\tValid Loss: 4.732836113674385\n",
            "Epoch:    1/20    Train Loss: 4.609526373386383\t\tValid Loss: 4.615024369480109\n",
            "Epoch:    1/20    Train Loss: 4.529366555690765\t\tValid Loss: 4.5549390411856185\n",
            "Epoch:    1/20    Train Loss: 4.447793844223022\t\tValid Loss: 4.510899757534501\n",
            "Epoch:    1/20    Train Loss: 4.400876892089844\t\tValid Loss: 4.466720579856604\n",
            "Epoch:    1/20    Train Loss: 4.354141274929047\t\tValid Loss: 4.441495322701919\n",
            "Epoch:    1/20    Train Loss: 4.314443356513977\t\tValid Loss: 4.417186076574333\n",
            "Epoch:    1/20    Train Loss: 4.30821027469635\t\tValid Loss: 4.404298506618316\n",
            "Epoch:    1/20    Train Loss: 4.267453287124634\t\tValid Loss: 4.383653525046453\n",
            "Epoch:    1/20    Train Loss: 4.229557985305786\t\tValid Loss: 4.38868890318696\n",
            "Epoch:    2/20    Train Loss: 4.160748254112575\t\tValid Loss: 4.374750960412337\n",
            "Epoch:    2/20    Train Loss: 4.130858194828034\t\tValid Loss: 4.375222437003492\n",
            "Epoch:    2/20    Train Loss: 4.117980219841003\t\tValid Loss: 4.379316227434354\n",
            "Epoch:    2/20    Train Loss: 4.118295590400696\t\tValid Loss: 4.367859266340005\n",
            "Epoch:    2/20    Train Loss: 4.120005354881287\t\tValid Loss: 4.367197080216473\n",
            "Epoch:    2/20    Train Loss: 4.107158643245697\t\tValid Loss: 4.35634628920271\n",
            "Epoch:    2/20    Train Loss: 4.118607456207275\t\tValid Loss: 4.363316284352211\n",
            "Epoch:    2/20    Train Loss: 4.1009514336586\t\tValid Loss: 4.351976449593998\n",
            "Epoch:    2/20    Train Loss: 4.087092416763306\t\tValid Loss: 4.364807017142192\n",
            "Epoch:    2/20    Train Loss: 4.085028846740722\t\tValid Loss: 4.360046899156098\n",
            "Epoch:    2/20    Train Loss: 4.078928709030151\t\tValid Loss: 4.357134446426851\n",
            "Epoch:    3/20    Train Loss: 3.9734497294218643\t\tValid Loss: 4.3647292312408466\n",
            "Epoch:    3/20    Train Loss: 3.9842133827209474\t\tValid Loss: 4.364455030876702\n",
            "Epoch:    3/20    Train Loss: 3.989885566711426\t\tValid Loss: 4.3726554757301015\n",
            "Epoch:    3/20    Train Loss: 3.959593737602234\t\tValid Loss: 4.362955329406201\n",
            "Epoch:    3/20    Train Loss: 3.9847542839050294\t\tValid Loss: 4.378021821304781\n",
            "Epoch:    3/20    Train Loss: 3.9740823917388917\t\tValid Loss: 4.369914325808589\n",
            "Epoch:    3/20    Train Loss: 3.979511425971985\t\tValid Loss: 4.373483957700052\n",
            "Epoch:    3/20    Train Loss: 3.9711803164482116\t\tValid Loss: 4.381231792180211\n",
            "Epoch:    3/20    Train Loss: 3.972494773387909\t\tValid Loss: 4.375439419989439\n",
            "Epoch:    3/20    Train Loss: 3.9789776582717895\t\tValid Loss: 4.372784120268045\n",
            "Epoch:    3/20    Train Loss: 3.9944464979171754\t\tValid Loss: 4.367394964727496\n",
            "Epoch:    4/20    Train Loss: 3.8755222486413046\t\tValid Loss: 4.368260043179141\n",
            "Epoch:    4/20    Train Loss: 3.888667140960693\t\tValid Loss: 4.384043777750622\n",
            "Epoch:    4/20    Train Loss: 3.8862777676582336\t\tValid Loss: 4.384030388656146\n",
            "Epoch:    4/20    Train Loss: 3.905311812400818\t\tValid Loss: 4.385152435781968\n",
            "Epoch:    4/20    Train Loss: 3.887630009651184\t\tValid Loss: 4.393711712064285\n",
            "Epoch:    4/20    Train Loss: 3.882899141788483\t\tValid Loss: 4.38873242065364\n",
            "Epoch:    4/20    Train Loss: 3.864575485229492\t\tValid Loss: 4.390236205020913\n",
            "Epoch:    4/20    Train Loss: 3.8932955632209776\t\tValid Loss: 4.394363582519345\n",
            "Epoch:    4/20    Train Loss: 3.9006320400238037\t\tValid Loss: 4.3924533913482975\n",
            "Epoch:    4/20    Train Loss: 3.9254909648895264\t\tValid Loss: 4.386274097124963\n",
            "Epoch:    4/20    Train Loss: 3.928659719944\t\tValid Loss: 4.393704246636012\n",
            "Epoch:    5/20    Train Loss: 3.805434405285379\t\tValid Loss: 4.399178811139711\n",
            "Epoch:    5/20    Train Loss: 3.8086125354766844\t\tValid Loss: 4.391667675133326\n",
            "Epoch:    5/20    Train Loss: 3.830538513660431\t\tValid Loss: 4.400786087141564\n",
            "Epoch:    5/20    Train Loss: 3.8233472785949707\t\tValid Loss: 4.389206317030776\n",
            "Epoch:    5/20    Train Loss: 3.842171043395996\t\tValid Loss: 4.384199212629506\n",
            "Epoch:    5/20    Train Loss: 3.8480896034240724\t\tValid Loss: 4.390330075533032\n",
            "Epoch:    5/20    Train Loss: 3.846805467605591\t\tValid Loss: 4.398735632934077\n",
            "Epoch:    5/20    Train Loss: 3.8454700384140015\t\tValid Loss: 4.388465518328412\n",
            "Epoch:    5/20    Train Loss: 3.8488642024993895\t\tValid Loss: 4.397778816900917\n",
            "Epoch:    5/20    Train Loss: 3.8573503489494323\t\tValid Loss: 4.396133471288359\n",
            "Epoch:    5/20    Train Loss: 3.8676848278045655\t\tValid Loss: 4.391380096970919\n",
            "Epoch:    6/20    Train Loss: 3.75645622668059\t\tValid Loss: 4.403824161131093\n",
            "Epoch:    6/20    Train Loss: 3.7699766879081724\t\tValid Loss: 4.39961240005767\n",
            "Epoch:    6/20    Train Loss: 3.759101701259613\t\tValid Loss: 4.392674633520418\n",
            "Epoch:    6/20    Train Loss: 3.796735677242279\t\tValid Loss: 4.3966688315644165\n",
            "Epoch:    6/20    Train Loss: 3.7925963644981384\t\tValid Loss: 4.389864313285811\n",
            "Epoch:    6/20    Train Loss: 3.8103230366706846\t\tValid Loss: 4.3952127394707015\n",
            "Epoch:    6/20    Train Loss: 3.799502140045166\t\tValid Loss: 4.404301951107838\n",
            "Epoch:    6/20    Train Loss: 3.792843017101288\t\tValid Loss: 4.4108883244308394\n",
            "Epoch:    6/20    Train Loss: 3.8003445625305177\t\tValid Loss: 4.401548460585902\n",
            "Epoch:    6/20    Train Loss: 3.823546253681183\t\tValid Loss: 4.396918126001515\n",
            "Epoch:    6/20    Train Loss: 3.829137056827545\t\tValid Loss: 4.399163950456618\n",
            "Epoch:    7/20    Train Loss: 3.723372665488202\t\tValid Loss: 4.397927539261313\n",
            "Epoch:    7/20    Train Loss: 3.744728320598602\t\tValid Loss: 4.401745391080299\n",
            "Epoch:    7/20    Train Loss: 3.7345215373039244\t\tValid Loss: 4.409462069061619\n",
            "Epoch:    7/20    Train Loss: 3.728920075416565\t\tValid Loss: 4.402412534701422\n",
            "Epoch:    7/20    Train Loss: 3.752825436115265\t\tValid Loss: 4.398404437008301\n",
            "Epoch:    7/20    Train Loss: 3.764024438381195\t\tValid Loss: 4.4019566918994055\n",
            "Epoch:    7/20    Train Loss: 3.751514929294586\t\tValid Loss: 4.4070905160322\n",
            "Epoch:    7/20    Train Loss: 3.743214664936066\t\tValid Loss: 4.408283208653983\n",
            "Epoch:    7/20    Train Loss: 3.7999721360206604\t\tValid Loss: 4.403792434858061\n",
            "Epoch:    7/20    Train Loss: 3.7865560665130613\t\tValid Loss: 4.400829091486277\n",
            "Epoch:    7/20    Train Loss: 3.802578821182251\t\tValid Loss: 4.395787278782611\n",
            "Epoch:    8/20    Train Loss: 3.6898212884820025\t\tValid Loss: 4.414092662089691\n",
            "Epoch:    8/20    Train Loss: 3.6778013348579406\t\tValid Loss: 4.411081742144966\n",
            "Epoch:    8/20    Train Loss: 3.6920023231506347\t\tValid Loss: 4.410767376380093\n",
            "Epoch:    8/20    Train Loss: 3.714900037765503\t\tValid Loss: 4.409909814360838\n",
            "Epoch:    8/20    Train Loss: 3.72610196685791\t\tValid Loss: 4.411996234687044\n",
            "Epoch:    8/20    Train Loss: 3.7538165612220764\t\tValid Loss: 4.411728162005576\n",
            "Epoch:    8/20    Train Loss: 3.719953917980194\t\tValid Loss: 4.41098074628908\n",
            "Epoch:    8/20    Train Loss: 3.758598918437958\t\tValid Loss: 4.411042029448575\n",
            "Epoch:    8/20    Train Loss: 3.741055965900421\t\tValid Loss: 4.40963992897932\n",
            "Epoch:    8/20    Train Loss: 3.754136501789093\t\tValid Loss: 4.398288481028407\n",
            "Epoch:    8/20    Train Loss: 3.7725573925971987\t\tValid Loss: 4.404073023573581\n",
            "Epoch:    9/20    Train Loss: 3.6514673183275304\t\tValid Loss: 4.420028586740213\n",
            "Epoch:    9/20    Train Loss: 3.656023111820221\t\tValid Loss: 4.41519619660333\n",
            "Epoch:    9/20    Train Loss: 3.6796465611457823\t\tValid Loss: 4.418357913475283\n",
            "Epoch:    9/20    Train Loss: 3.682855622291565\t\tValid Loss: 4.420897857798832\n",
            "Epoch:    9/20    Train Loss: 3.698138502597809\t\tValid Loss: 4.413008447354078\n",
            "Epoch:    9/20    Train Loss: 3.694781422138214\t\tValid Loss: 4.41376610086363\n",
            "Epoch:    9/20    Train Loss: 3.700916518688202\t\tValid Loss: 4.420737916415146\n",
            "Epoch:    9/20    Train Loss: 3.71716735458374\t\tValid Loss: 4.414871254672443\n",
            "Epoch:    9/20    Train Loss: 3.7173146047592165\t\tValid Loss: 4.412781908113325\n",
            "Epoch:    9/20    Train Loss: 3.7479480032920836\t\tValid Loss: 4.420569331887294\n",
            "Epoch:    9/20    Train Loss: 3.7458749957084656\t\tValid Loss: 4.4107703276016\n",
            "Epoch:   10/20    Train Loss: 3.6401342400260592\t\tValid Loss: 4.4249972393422015\n",
            "Epoch:   10/20    Train Loss: 3.668840235710144\t\tValid Loss: 4.422195515355359\n",
            "Epoch:   10/20    Train Loss: 3.6568512167930605\t\tValid Loss: 4.428190852786171\n",
            "Epoch:   10/20    Train Loss: 3.660819556236267\t\tValid Loss: 4.424553409208091\n",
            "Epoch:   10/20    Train Loss: 3.652282861709595\t\tValid Loss: 4.429500677563352\n",
            "Epoch:   10/20    Train Loss: 3.688331817626953\t\tValid Loss: 4.428722007276339\n",
            "Epoch:   10/20    Train Loss: 3.71343683719635\t\tValid Loss: 4.425230722502676\n",
            "Epoch:   10/20    Train Loss: 3.671186176300049\t\tValid Loss: 4.42647825276689\n",
            "Epoch:   10/20    Train Loss: 3.6976754145622253\t\tValid Loss: 4.421194272510284\n",
            "Epoch:   10/20    Train Loss: 3.7276696343421936\t\tValid Loss: 4.426625685647333\n",
            "Epoch:   10/20    Train Loss: 3.696573396205902\t\tValid Loss: 4.422932363292423\n",
            "Epoch:   11/20    Train Loss: 3.6106732795549474\t\tValid Loss: 4.438621510555653\n",
            "Epoch:   11/20    Train Loss: 3.6231095571517944\t\tValid Loss: 4.441236743632616\n",
            "Epoch:   11/20    Train Loss: 3.6469874286651613\t\tValid Loss: 4.442403607289738\n",
            "Epoch:   11/20    Train Loss: 3.6245390315055848\t\tValid Loss: 4.4335760512286955\n",
            "Epoch:   11/20    Train Loss: 3.6504422335624693\t\tValid Loss: 4.428756188250923\n",
            "Epoch:   11/20    Train Loss: 3.637293863773346\t\tValid Loss: 4.442723788551008\n",
            "Epoch:   11/20    Train Loss: 3.674169698238373\t\tValid Loss: 4.437199272359778\n",
            "Epoch:   11/20    Train Loss: 3.6868895134925843\t\tValid Loss: 4.433894869071155\n",
            "Epoch:   11/20    Train Loss: 3.683361096382141\t\tValid Loss: 4.4306493373714755\n",
            "Epoch:   11/20    Train Loss: 3.6895381956100466\t\tValid Loss: 4.426108928866636\n",
            "Epoch:   11/20    Train Loss: 3.6939745697975157\t\tValid Loss: 4.431094508845431\n",
            "Epoch:   12/20    Train Loss: 3.5924017159835153\t\tValid Loss: 4.447312360518456\n",
            "Epoch:   12/20    Train Loss: 3.5983527636528017\t\tValid Loss: 4.441171396061061\n",
            "Epoch:   12/20    Train Loss: 3.592987513065338\t\tValid Loss: 4.448524145624745\n",
            "Epoch:   12/20    Train Loss: 3.6135393853187563\t\tValid Loss: 4.443152048736704\n",
            "Epoch:   12/20    Train Loss: 3.6270551557540895\t\tValid Loss: 4.450126223998881\n",
            "Epoch:   12/20    Train Loss: 3.649634997844696\t\tValid Loss: 4.44735394821523\n",
            "Epoch:   12/20    Train Loss: 3.6454805879592898\t\tValid Loss: 4.441995720853073\n",
            "Epoch:   12/20    Train Loss: 3.6487475104331972\t\tValid Loss: 4.445103939197428\n",
            "Epoch:   12/20    Train Loss: 3.678617178916931\t\tValid Loss: 4.447390493521652\n",
            "Epoch:   12/20    Train Loss: 3.6574475984573365\t\tValid Loss: 4.443838642555779\n",
            "Epoch:   12/20    Train Loss: 3.7008920335769653\t\tValid Loss: 4.439000318312251\n",
            "Epoch:   13/20    Train Loss: 3.5882114588696026\t\tValid Loss: 4.45783155270814\n",
            "Epoch:   13/20    Train Loss: 3.580773274898529\t\tValid Loss: 4.461511580446001\n",
            "Epoch:   13/20    Train Loss: 3.604773832798004\t\tValid Loss: 4.457230204399421\n",
            "Epoch:   13/20    Train Loss: 3.5881289010047914\t\tValid Loss: 4.458024217341328\n",
            "Epoch:   13/20    Train Loss: 3.6196112151145936\t\tValid Loss: 4.4506416481686255\n",
            "Epoch:   13/20    Train Loss: 3.624623828411102\t\tValid Loss: 4.454980805719489\n",
            "Epoch:   13/20    Train Loss: 3.642172155380249\t\tValid Loss: 4.444238764727963\n",
            "Epoch:   13/20    Train Loss: 3.6358650755882262\t\tValid Loss: 4.451909184370294\n",
            "Epoch:   13/20    Train Loss: 3.6493391509056092\t\tValid Loss: 4.445921604871236\n",
            "Epoch:   13/20    Train Loss: 3.6595922384262085\t\tValid Loss: 4.441583943726429\n",
            "Epoch:   13/20    Train Loss: 3.6417486600875852\t\tValid Loss: 4.439493359204941\n",
            "Epoch:   14/20    Train Loss: 3.569724719006082\t\tValid Loss: 4.462523269892937\n",
            "Epoch:   14/20    Train Loss: 3.564241075515747\t\tValid Loss: 4.462129919287633\n",
            "Epoch:   14/20    Train Loss: 3.595757893562317\t\tValid Loss: 4.4727409976211625\n",
            "Epoch:   14/20    Train Loss: 3.604773733139038\t\tValid Loss: 4.458582501743479\n",
            "Epoch:   14/20    Train Loss: 3.595166357040405\t\tValid Loss: 4.466696115166527\n",
            "Epoch:   14/20    Train Loss: 3.6064666419029234\t\tValid Loss: 4.464055471084825\n",
            "Epoch:   14/20    Train Loss: 3.629003490924835\t\tValid Loss: 4.471963144426969\n",
            "Epoch:   14/20    Train Loss: 3.6303520007133483\t\tValid Loss: 4.460095183077427\n",
            "Epoch:   14/20    Train Loss: 3.6031236057281495\t\tValid Loss: 4.460487925056408\n",
            "Epoch:   14/20    Train Loss: 3.62742622423172\t\tValid Loss: 4.452042879514017\n",
            "Epoch:   14/20    Train Loss: 3.643277823448181\t\tValid Loss: 4.452351441249861\n",
            "Epoch:   15/20    Train Loss: 3.5619063335916272\t\tValid Loss: 4.476909219491251\n",
            "Epoch:   15/20    Train Loss: 3.554255621433258\t\tValid Loss: 4.474177961630181\n",
            "Epoch:   15/20    Train Loss: 3.5707902722358704\t\tValid Loss: 4.469138133808253\n",
            "Epoch:   15/20    Train Loss: 3.5790109834671022\t\tValid Loss: 4.474035496687769\n",
            "Epoch:   15/20    Train Loss: 3.5829161205291746\t\tValid Loss: 4.4755940659818085\n",
            "Epoch:   15/20    Train Loss: 3.608414297580719\t\tValid Loss: 4.464973719618086\n",
            "Epoch:   15/20    Train Loss: 3.5903933091163633\t\tValid Loss: 4.470148413624596\n",
            "Epoch:   15/20    Train Loss: 3.592443823814392\t\tValid Loss: 4.462779660577493\n",
            "Epoch:   15/20    Train Loss: 3.6160294852256776\t\tValid Loss: 4.464278475808652\n",
            "Epoch:   15/20    Train Loss: 3.613637661933899\t\tValid Loss: 4.460334155855637\n",
            "Epoch:   15/20    Train Loss: 3.6390289225578307\t\tValid Loss: 4.465368957546916\n",
            "Epoch:   16/20    Train Loss: 3.552341375765593\t\tValid Loss: 4.474671138933213\n",
            "Epoch:   16/20    Train Loss: 3.5359907603263854\t\tValid Loss: 4.478641089140214\n",
            "Epoch:   16/20    Train Loss: 3.550603515148163\t\tValid Loss: 4.481062932401275\n",
            "Epoch:   16/20    Train Loss: 3.561270844936371\t\tValid Loss: 4.482733408838232\n",
            "Epoch:   16/20    Train Loss: 3.5833421382904054\t\tValid Loss: 4.480230880143055\n",
            "Epoch:   16/20    Train Loss: 3.581767916202545\t\tValid Loss: 4.481040549637684\n",
            "Epoch:   16/20    Train Loss: 3.5784845867156982\t\tValid Loss: 4.475399479622988\n",
            "Epoch:   16/20    Train Loss: 3.590759319782257\t\tValid Loss: 4.475408026578181\n",
            "Epoch:   16/20    Train Loss: 3.6024214968681334\t\tValid Loss: 4.47399191520921\n",
            "Epoch:   16/20    Train Loss: 3.608512520313263\t\tValid Loss: 4.47719172839201\n",
            "Epoch:   16/20    Train Loss: 3.5866172099113465\t\tValid Loss: 4.468078097763116\n",
            "Epoch:   17/20    Train Loss: 3.5267374299920125\t\tValid Loss: 4.493630339409581\n",
            "Epoch:   17/20    Train Loss: 3.517394160747528\t\tValid Loss: 4.490041693080182\n"
          ],
          "name": "stdout"
        },
        {
          "output_type": "error",
          "ename": "KeyboardInterrupt",
          "evalue": "",
          "traceback": [
            "\u001b[0;31m---------------------------------------------------------------------------\u001b[0m",
            "\u001b[0;31mKeyboardInterrupt\u001b[0m                         Traceback (most recent call last)",
            "\u001b[0;32m<ipython-input-44-36db7eddd5e0>\u001b[0m in \u001b[0;36m<module>\u001b[0;34m()\u001b[0m\n\u001b[1;32m     13\u001b[0m \u001b[0;31m# training and saving the model\u001b[0m\u001b[0;34m\u001b[0m\u001b[0;34m\u001b[0m\u001b[0m\n\u001b[1;32m     14\u001b[0m \u001b[0;32mwith\u001b[0m \u001b[0mactive_session\u001b[0m\u001b[0;34m(\u001b[0m\u001b[0;34m)\u001b[0m\u001b[0;34m:\u001b[0m\u001b[0;34m\u001b[0m\u001b[0m\n\u001b[0;32m---> 15\u001b[0;31m     \u001b[0mtrained_rnn\u001b[0m \u001b[0;34m=\u001b[0m \u001b[0mtrain_rnn\u001b[0m\u001b[0;34m(\u001b[0m\u001b[0mrnn\u001b[0m\u001b[0;34m,\u001b[0m \u001b[0mbatch_size\u001b[0m\u001b[0;34m,\u001b[0m \u001b[0moptimizer\u001b[0m\u001b[0;34m,\u001b[0m \u001b[0mcriterion\u001b[0m\u001b[0;34m,\u001b[0m \u001b[0mnum_epochs\u001b[0m\u001b[0;34m,\u001b[0m \u001b[0mshow_every_n_batches\u001b[0m\u001b[0;34m)\u001b[0m\u001b[0;34m\u001b[0m\u001b[0m\n\u001b[0m\u001b[1;32m     16\u001b[0m \u001b[0;34m\u001b[0m\u001b[0m\n\u001b[1;32m     17\u001b[0m \u001b[0;31m# saving the trained model when it get to the\u001b[0m\u001b[0;34m\u001b[0m\u001b[0;34m\u001b[0m\u001b[0m\n",
            "\u001b[0;32m<ipython-input-41-550da5457ecd>\u001b[0m in \u001b[0;36mtrain_rnn\u001b[0;34m(rnn, batch_size, optimizer, criterion, n_epochs, show_every_n_batches)\u001b[0m\n\u001b[1;32m     13\u001b[0m         \u001b[0mhidden\u001b[0m \u001b[0;34m=\u001b[0m \u001b[0mrnn\u001b[0m\u001b[0;34m.\u001b[0m\u001b[0minit_hidden\u001b[0m\u001b[0;34m(\u001b[0m\u001b[0mbatch_size\u001b[0m\u001b[0;34m)\u001b[0m\u001b[0;34m\u001b[0m\u001b[0m\n\u001b[1;32m     14\u001b[0m \u001b[0;34m\u001b[0m\u001b[0m\n\u001b[0;32m---> 15\u001b[0;31m         \u001b[0;32mfor\u001b[0m \u001b[0mbatch_i\u001b[0m\u001b[0;34m,\u001b[0m \u001b[0;34m(\u001b[0m\u001b[0minputs\u001b[0m\u001b[0;34m,\u001b[0m \u001b[0mlabels\u001b[0m\u001b[0;34m)\u001b[0m \u001b[0;32min\u001b[0m \u001b[0menumerate\u001b[0m\u001b[0;34m(\u001b[0m\u001b[0mtrain_loader\u001b[0m\u001b[0;34m,\u001b[0m \u001b[0;36m1\u001b[0m\u001b[0;34m)\u001b[0m\u001b[0;34m:\u001b[0m\u001b[0;34m\u001b[0m\u001b[0m\n\u001b[0m\u001b[1;32m     16\u001b[0m \u001b[0;34m\u001b[0m\u001b[0m\n\u001b[1;32m     17\u001b[0m             \u001b[0;31m# make sure you iterate over completely full batches, only\u001b[0m\u001b[0;34m\u001b[0m\u001b[0;34m\u001b[0m\u001b[0m\n",
            "\u001b[0;32m/opt/conda/lib/python3.6/site-packages/torch/utils/data/dataloader.py\u001b[0m in \u001b[0;36m__next__\u001b[0;34m(self)\u001b[0m\n\u001b[1;32m    262\u001b[0m         \u001b[0;32mif\u001b[0m \u001b[0mself\u001b[0m\u001b[0;34m.\u001b[0m\u001b[0mnum_workers\u001b[0m \u001b[0;34m==\u001b[0m \u001b[0;36m0\u001b[0m\u001b[0;34m:\u001b[0m  \u001b[0;31m# same-process loading\u001b[0m\u001b[0;34m\u001b[0m\u001b[0m\n\u001b[1;32m    263\u001b[0m             \u001b[0mindices\u001b[0m \u001b[0;34m=\u001b[0m \u001b[0mnext\u001b[0m\u001b[0;34m(\u001b[0m\u001b[0mself\u001b[0m\u001b[0;34m.\u001b[0m\u001b[0msample_iter\u001b[0m\u001b[0;34m)\u001b[0m  \u001b[0;31m# may raise StopIteration\u001b[0m\u001b[0;34m\u001b[0m\u001b[0m\n\u001b[0;32m--> 264\u001b[0;31m             \u001b[0mbatch\u001b[0m \u001b[0;34m=\u001b[0m \u001b[0mself\u001b[0m\u001b[0;34m.\u001b[0m\u001b[0mcollate_fn\u001b[0m\u001b[0;34m(\u001b[0m\u001b[0;34m[\u001b[0m\u001b[0mself\u001b[0m\u001b[0;34m.\u001b[0m\u001b[0mdataset\u001b[0m\u001b[0;34m[\u001b[0m\u001b[0mi\u001b[0m\u001b[0;34m]\u001b[0m \u001b[0;32mfor\u001b[0m \u001b[0mi\u001b[0m \u001b[0;32min\u001b[0m \u001b[0mindices\u001b[0m\u001b[0;34m]\u001b[0m\u001b[0;34m)\u001b[0m\u001b[0;34m\u001b[0m\u001b[0m\n\u001b[0m\u001b[1;32m    265\u001b[0m             \u001b[0;32mif\u001b[0m \u001b[0mself\u001b[0m\u001b[0;34m.\u001b[0m\u001b[0mpin_memory\u001b[0m\u001b[0;34m:\u001b[0m\u001b[0;34m\u001b[0m\u001b[0m\n\u001b[1;32m    266\u001b[0m                 \u001b[0mbatch\u001b[0m \u001b[0;34m=\u001b[0m \u001b[0mpin_memory_batch\u001b[0m\u001b[0;34m(\u001b[0m\u001b[0mbatch\u001b[0m\u001b[0;34m)\u001b[0m\u001b[0;34m\u001b[0m\u001b[0m\n",
            "\u001b[0;32m/opt/conda/lib/python3.6/site-packages/torch/utils/data/dataloader.py\u001b[0m in \u001b[0;36mdefault_collate\u001b[0;34m(batch)\u001b[0m\n\u001b[1;32m    136\u001b[0m     \u001b[0;32melif\u001b[0m \u001b[0misinstance\u001b[0m\u001b[0;34m(\u001b[0m\u001b[0mbatch\u001b[0m\u001b[0;34m[\u001b[0m\u001b[0;36m0\u001b[0m\u001b[0;34m]\u001b[0m\u001b[0;34m,\u001b[0m \u001b[0mcollections\u001b[0m\u001b[0;34m.\u001b[0m\u001b[0mSequence\u001b[0m\u001b[0;34m)\u001b[0m\u001b[0;34m:\u001b[0m\u001b[0;34m\u001b[0m\u001b[0m\n\u001b[1;32m    137\u001b[0m         \u001b[0mtransposed\u001b[0m \u001b[0;34m=\u001b[0m \u001b[0mzip\u001b[0m\u001b[0;34m(\u001b[0m\u001b[0;34m*\u001b[0m\u001b[0mbatch\u001b[0m\u001b[0;34m)\u001b[0m\u001b[0;34m\u001b[0m\u001b[0m\n\u001b[0;32m--> 138\u001b[0;31m         \u001b[0;32mreturn\u001b[0m \u001b[0;34m[\u001b[0m\u001b[0mdefault_collate\u001b[0m\u001b[0;34m(\u001b[0m\u001b[0msamples\u001b[0m\u001b[0;34m)\u001b[0m \u001b[0;32mfor\u001b[0m \u001b[0msamples\u001b[0m \u001b[0;32min\u001b[0m \u001b[0mtransposed\u001b[0m\u001b[0;34m]\u001b[0m\u001b[0;34m\u001b[0m\u001b[0m\n\u001b[0m\u001b[1;32m    139\u001b[0m \u001b[0;34m\u001b[0m\u001b[0m\n\u001b[1;32m    140\u001b[0m     \u001b[0;32mraise\u001b[0m \u001b[0mTypeError\u001b[0m\u001b[0;34m(\u001b[0m\u001b[0;34m(\u001b[0m\u001b[0merror_msg\u001b[0m\u001b[0;34m.\u001b[0m\u001b[0mformat\u001b[0m\u001b[0;34m(\u001b[0m\u001b[0mtype\u001b[0m\u001b[0;34m(\u001b[0m\u001b[0mbatch\u001b[0m\u001b[0;34m[\u001b[0m\u001b[0;36m0\u001b[0m\u001b[0;34m]\u001b[0m\u001b[0;34m)\u001b[0m\u001b[0;34m)\u001b[0m\u001b[0;34m)\u001b[0m\u001b[0;34m)\u001b[0m\u001b[0;34m\u001b[0m\u001b[0m\n",
            "\u001b[0;32m/opt/conda/lib/python3.6/site-packages/torch/utils/data/dataloader.py\u001b[0m in \u001b[0;36m<listcomp>\u001b[0;34m(.0)\u001b[0m\n\u001b[1;32m    136\u001b[0m     \u001b[0;32melif\u001b[0m \u001b[0misinstance\u001b[0m\u001b[0;34m(\u001b[0m\u001b[0mbatch\u001b[0m\u001b[0;34m[\u001b[0m\u001b[0;36m0\u001b[0m\u001b[0;34m]\u001b[0m\u001b[0;34m,\u001b[0m \u001b[0mcollections\u001b[0m\u001b[0;34m.\u001b[0m\u001b[0mSequence\u001b[0m\u001b[0;34m)\u001b[0m\u001b[0;34m:\u001b[0m\u001b[0;34m\u001b[0m\u001b[0m\n\u001b[1;32m    137\u001b[0m         \u001b[0mtransposed\u001b[0m \u001b[0;34m=\u001b[0m \u001b[0mzip\u001b[0m\u001b[0;34m(\u001b[0m\u001b[0;34m*\u001b[0m\u001b[0mbatch\u001b[0m\u001b[0;34m)\u001b[0m\u001b[0;34m\u001b[0m\u001b[0m\n\u001b[0;32m--> 138\u001b[0;31m         \u001b[0;32mreturn\u001b[0m \u001b[0;34m[\u001b[0m\u001b[0mdefault_collate\u001b[0m\u001b[0;34m(\u001b[0m\u001b[0msamples\u001b[0m\u001b[0;34m)\u001b[0m \u001b[0;32mfor\u001b[0m \u001b[0msamples\u001b[0m \u001b[0;32min\u001b[0m \u001b[0mtransposed\u001b[0m\u001b[0;34m]\u001b[0m\u001b[0;34m\u001b[0m\u001b[0m\n\u001b[0m\u001b[1;32m    139\u001b[0m \u001b[0;34m\u001b[0m\u001b[0m\n\u001b[1;32m    140\u001b[0m     \u001b[0;32mraise\u001b[0m \u001b[0mTypeError\u001b[0m\u001b[0;34m(\u001b[0m\u001b[0;34m(\u001b[0m\u001b[0merror_msg\u001b[0m\u001b[0;34m.\u001b[0m\u001b[0mformat\u001b[0m\u001b[0;34m(\u001b[0m\u001b[0mtype\u001b[0m\u001b[0;34m(\u001b[0m\u001b[0mbatch\u001b[0m\u001b[0;34m[\u001b[0m\u001b[0;36m0\u001b[0m\u001b[0;34m]\u001b[0m\u001b[0;34m)\u001b[0m\u001b[0;34m)\u001b[0m\u001b[0;34m)\u001b[0m\u001b[0;34m)\u001b[0m\u001b[0;34m\u001b[0m\u001b[0m\n",
            "\u001b[0;32m/opt/conda/lib/python3.6/site-packages/torch/utils/data/dataloader.py\u001b[0m in \u001b[0;36mdefault_collate\u001b[0;34m(batch)\u001b[0m\n\u001b[1;32m    113\u001b[0m             \u001b[0mstorage\u001b[0m \u001b[0;34m=\u001b[0m \u001b[0mbatch\u001b[0m\u001b[0;34m[\u001b[0m\u001b[0;36m0\u001b[0m\u001b[0;34m]\u001b[0m\u001b[0;34m.\u001b[0m\u001b[0mstorage\u001b[0m\u001b[0;34m(\u001b[0m\u001b[0;34m)\u001b[0m\u001b[0;34m.\u001b[0m\u001b[0m_new_shared\u001b[0m\u001b[0;34m(\u001b[0m\u001b[0mnumel\u001b[0m\u001b[0;34m)\u001b[0m\u001b[0;34m\u001b[0m\u001b[0m\n\u001b[1;32m    114\u001b[0m             \u001b[0mout\u001b[0m \u001b[0;34m=\u001b[0m \u001b[0mbatch\u001b[0m\u001b[0;34m[\u001b[0m\u001b[0;36m0\u001b[0m\u001b[0;34m]\u001b[0m\u001b[0;34m.\u001b[0m\u001b[0mnew\u001b[0m\u001b[0;34m(\u001b[0m\u001b[0mstorage\u001b[0m\u001b[0;34m)\u001b[0m\u001b[0;34m\u001b[0m\u001b[0m\n\u001b[0;32m--> 115\u001b[0;31m         \u001b[0;32mreturn\u001b[0m \u001b[0mtorch\u001b[0m\u001b[0;34m.\u001b[0m\u001b[0mstack\u001b[0m\u001b[0;34m(\u001b[0m\u001b[0mbatch\u001b[0m\u001b[0;34m,\u001b[0m \u001b[0;36m0\u001b[0m\u001b[0;34m,\u001b[0m \u001b[0mout\u001b[0m\u001b[0;34m=\u001b[0m\u001b[0mout\u001b[0m\u001b[0;34m)\u001b[0m\u001b[0;34m\u001b[0m\u001b[0m\n\u001b[0m\u001b[1;32m    116\u001b[0m     \u001b[0;32melif\u001b[0m \u001b[0melem_type\u001b[0m\u001b[0;34m.\u001b[0m\u001b[0m__module__\u001b[0m \u001b[0;34m==\u001b[0m \u001b[0;34m'numpy'\u001b[0m \u001b[0;32mand\u001b[0m \u001b[0melem_type\u001b[0m\u001b[0;34m.\u001b[0m\u001b[0m__name__\u001b[0m \u001b[0;34m!=\u001b[0m \u001b[0;34m'str_'\u001b[0m\u001b[0;31m \u001b[0m\u001b[0;31m\\\u001b[0m\u001b[0;34m\u001b[0m\u001b[0m\n\u001b[1;32m    117\u001b[0m             \u001b[0;32mand\u001b[0m \u001b[0melem_type\u001b[0m\u001b[0;34m.\u001b[0m\u001b[0m__name__\u001b[0m \u001b[0;34m!=\u001b[0m \u001b[0;34m'string_'\u001b[0m\u001b[0;34m:\u001b[0m\u001b[0;34m\u001b[0m\u001b[0m\n",
            "\u001b[0;31mKeyboardInterrupt\u001b[0m: "
          ]
        }
      ]
    },
    {
      "cell_type": "markdown",
      "metadata": {
        "id": "cOBOCKJEy-mb",
        "colab_type": "text"
      },
      "source": [
        "This cell was added to train the model some more since we are having limited GPU to train it all over again."
      ]
    },
    {
      "cell_type": "code",
      "metadata": {
        "id": "qRfFmtcYy-mc",
        "colab_type": "code",
        "colab": {},
        "outputId": "a1b7ffdc-c27a-48f7-cce7-585fe35cdd09"
      },
      "source": [
        "learning_rate = 0.0005\n",
        "# defining loss and optimization functions for training\n",
        "optimizer = torch.optim.Adam(rnn.parameters(), lr=learning_rate)\n",
        "\n",
        "# training and saving the model\n",
        "with active_session():\n",
        "    trained_rnn = train_rnn(rnn, batch_size, optimizer, criterion, 5, show_every_n_batches)\n",
        "\n",
        "# saving the trained model when it get to the \n",
        "helper.save_model('./save/trained_rnn', trained_rnn)\n",
        "print('Model Trained and Saved')"
      ],
      "execution_count": 0,
      "outputs": [
        {
          "output_type": "stream",
          "text": [
            "Training for 5 epoch(s)...\n",
            "Epoch:    1/5     Train Loss: 3.5000908575057985\t\tValid Loss: 4.486820647464925\n",
            "Epoch:    1/5     Train Loss: 3.5325000514984133\t\tValid Loss: 4.488933075441359\n",
            "Epoch:    1/5     Train Loss: 3.52650545167923\t\tValid Loss: 4.486877927999229\n",
            "Epoch:    1/5     Train Loss: 3.552347966194153\t\tValid Loss: 4.486593361647114\n",
            "Epoch:    1/5     Train Loss: 3.564054212093353\t\tValid Loss: 4.487413472608962\n",
            "Epoch:    1/5     Train Loss: 3.546553509235382\t\tValid Loss: 4.492523597284606\n",
            "Epoch:    1/5     Train Loss: 3.552747356414795\t\tValid Loss: 4.4915078634507175\n",
            "Epoch:    1/5     Train Loss: 3.579635663986206\t\tValid Loss: 4.489384037251962\n",
            "Epoch:    1/5     Train Loss: 3.6021867351531984\t\tValid Loss: 4.486861671206768\n",
            "Epoch:    1/5     Train Loss: 3.5761478147506716\t\tValid Loss: 4.484652764661998\n",
            "Epoch:    1/5     Train Loss: 3.5791878170967104\t\tValid Loss: 4.487626509793097\n",
            "Epoch:    2/5     Train Loss: 3.5325510062342103\t\tValid Loss: 4.497730933242107\n",
            "Epoch:    2/5     Train Loss: 3.5158725128173827\t\tValid Loss: 4.495078306444583\n",
            "Epoch:    2/5     Train Loss: 3.497199110507965\t\tValid Loss: 4.49398900943956\n",
            "Epoch:    2/5     Train Loss: 3.498401318073273\t\tValid Loss: 4.497645520684707\n",
            "Epoch:    2/5     Train Loss: 3.501113892555237\t\tValid Loss: 4.502576159472442\n",
            "Epoch:    2/5     Train Loss: 3.51382551574707\t\tValid Loss: 4.501917614495249\n",
            "Epoch:    2/5     Train Loss: 3.5024226207733156\t\tValid Loss: 4.503809703140916\n",
            "Epoch:    2/5     Train Loss: 3.5257439646720887\t\tValid Loss: 4.496338678963819\n",
            "Epoch:    2/5     Train Loss: 3.5170493950843813\t\tValid Loss: 4.496931340312752\n",
            "Epoch:    2/5     Train Loss: 3.5335934104919433\t\tValid Loss: 4.494135363873867\n",
            "Epoch:    2/5     Train Loss: 3.5308760662078855\t\tValid Loss: 4.496433547137029\n",
            "Epoch:    3/5     Train Loss: 3.471032128541366\t\tValid Loss: 4.502895040813318\n"
          ],
          "name": "stdout"
        },
        {
          "output_type": "error",
          "ename": "KeyboardInterrupt",
          "evalue": "",
          "traceback": [
            "\u001b[0;31m---------------------------------------------------------------------------\u001b[0m",
            "\u001b[0;31mKeyboardInterrupt\u001b[0m                         Traceback (most recent call last)",
            "\u001b[0;32m<ipython-input-47-787e29327a61>\u001b[0m in \u001b[0;36m<module>\u001b[0;34m()\u001b[0m\n\u001b[1;32m      5\u001b[0m \u001b[0;31m# training and saving the model\u001b[0m\u001b[0;34m\u001b[0m\u001b[0;34m\u001b[0m\u001b[0m\n\u001b[1;32m      6\u001b[0m \u001b[0;32mwith\u001b[0m \u001b[0mactive_session\u001b[0m\u001b[0;34m(\u001b[0m\u001b[0;34m)\u001b[0m\u001b[0;34m:\u001b[0m\u001b[0;34m\u001b[0m\u001b[0m\n\u001b[0;32m----> 7\u001b[0;31m     \u001b[0mtrained_rnn\u001b[0m \u001b[0;34m=\u001b[0m \u001b[0mtrain_rnn\u001b[0m\u001b[0;34m(\u001b[0m\u001b[0mrnn\u001b[0m\u001b[0;34m,\u001b[0m \u001b[0mbatch_size\u001b[0m\u001b[0;34m,\u001b[0m \u001b[0moptimizer\u001b[0m\u001b[0;34m,\u001b[0m \u001b[0mcriterion\u001b[0m\u001b[0;34m,\u001b[0m \u001b[0;36m5\u001b[0m\u001b[0;34m,\u001b[0m \u001b[0mshow_every_n_batches\u001b[0m\u001b[0;34m)\u001b[0m\u001b[0;34m\u001b[0m\u001b[0m\n\u001b[0m\u001b[1;32m      8\u001b[0m \u001b[0;34m\u001b[0m\u001b[0m\n\u001b[1;32m      9\u001b[0m \u001b[0;31m# saving the trained model when it get to the\u001b[0m\u001b[0;34m\u001b[0m\u001b[0;34m\u001b[0m\u001b[0m\n",
            "\u001b[0;32m<ipython-input-41-550da5457ecd>\u001b[0m in \u001b[0;36mtrain_rnn\u001b[0;34m(rnn, batch_size, optimizer, criterion, n_epochs, show_every_n_batches)\u001b[0m\n\u001b[1;32m     21\u001b[0m \u001b[0;34m\u001b[0m\u001b[0m\n\u001b[1;32m     22\u001b[0m             \u001b[0;31m# forward, back prop\u001b[0m\u001b[0;34m\u001b[0m\u001b[0;34m\u001b[0m\u001b[0m\n\u001b[0;32m---> 23\u001b[0;31m             \u001b[0mloss\u001b[0m\u001b[0;34m,\u001b[0m \u001b[0mhidden\u001b[0m \u001b[0;34m=\u001b[0m \u001b[0mforward_back_prop\u001b[0m\u001b[0;34m(\u001b[0m\u001b[0mrnn\u001b[0m\u001b[0;34m,\u001b[0m \u001b[0moptimizer\u001b[0m\u001b[0;34m,\u001b[0m \u001b[0mcriterion\u001b[0m\u001b[0;34m,\u001b[0m \u001b[0minputs\u001b[0m\u001b[0;34m,\u001b[0m \u001b[0mlabels\u001b[0m\u001b[0;34m,\u001b[0m \u001b[0mhidden\u001b[0m\u001b[0;34m)\u001b[0m\u001b[0;34m\u001b[0m\u001b[0m\n\u001b[0m\u001b[1;32m     24\u001b[0m             \u001b[0;31m# record loss\u001b[0m\u001b[0;34m\u001b[0m\u001b[0;34m\u001b[0m\u001b[0m\n\u001b[1;32m     25\u001b[0m             \u001b[0mbatch_losses\u001b[0m\u001b[0;34m.\u001b[0m\u001b[0mappend\u001b[0m\u001b[0;34m(\u001b[0m\u001b[0mloss\u001b[0m\u001b[0;34m)\u001b[0m\u001b[0;34m\u001b[0m\u001b[0m\n",
            "\u001b[0;32m<ipython-input-40-f58500117a0d>\u001b[0m in \u001b[0;36mforward_back_prop\u001b[0;34m(rnn, optimizer, criterion, inp, target, hidden)\u001b[0m\n\u001b[1;32m     32\u001b[0m \u001b[0;34m\u001b[0m\u001b[0m\n\u001b[1;32m     33\u001b[0m     \u001b[0;31m# Clip the gradient to prevent it from exploding\u001b[0m\u001b[0;34m\u001b[0m\u001b[0;34m\u001b[0m\u001b[0m\n\u001b[0;32m---> 34\u001b[0;31m     \u001b[0mnn\u001b[0m\u001b[0;34m.\u001b[0m\u001b[0mutils\u001b[0m\u001b[0;34m.\u001b[0m\u001b[0mclip_grad_norm_\u001b[0m\u001b[0;34m(\u001b[0m\u001b[0mrnn\u001b[0m\u001b[0;34m.\u001b[0m\u001b[0mparameters\u001b[0m\u001b[0;34m(\u001b[0m\u001b[0;34m)\u001b[0m\u001b[0;34m,\u001b[0m \u001b[0mclip\u001b[0m\u001b[0;34m)\u001b[0m\u001b[0;34m\u001b[0m\u001b[0m\n\u001b[0m\u001b[1;32m     35\u001b[0m     \u001b[0;31m# Perform the optimization step\u001b[0m\u001b[0;34m\u001b[0m\u001b[0;34m\u001b[0m\u001b[0m\n\u001b[1;32m     36\u001b[0m     \u001b[0moptimizer\u001b[0m\u001b[0;34m.\u001b[0m\u001b[0mstep\u001b[0m\u001b[0;34m(\u001b[0m\u001b[0;34m)\u001b[0m\u001b[0;34m\u001b[0m\u001b[0m\n",
            "\u001b[0;32m/opt/conda/lib/python3.6/site-packages/torch/nn/utils/clip_grad.py\u001b[0m in \u001b[0;36mclip_grad_norm_\u001b[0;34m(parameters, max_norm, norm_type)\u001b[0m\n\u001b[1;32m     26\u001b[0m         \u001b[0mtotal_norm\u001b[0m \u001b[0;34m=\u001b[0m \u001b[0;36m0\u001b[0m\u001b[0;34m\u001b[0m\u001b[0m\n\u001b[1;32m     27\u001b[0m         \u001b[0;32mfor\u001b[0m \u001b[0mp\u001b[0m \u001b[0;32min\u001b[0m \u001b[0mparameters\u001b[0m\u001b[0;34m:\u001b[0m\u001b[0;34m\u001b[0m\u001b[0m\n\u001b[0;32m---> 28\u001b[0;31m             \u001b[0mparam_norm\u001b[0m \u001b[0;34m=\u001b[0m \u001b[0mp\u001b[0m\u001b[0;34m.\u001b[0m\u001b[0mgrad\u001b[0m\u001b[0;34m.\u001b[0m\u001b[0mdata\u001b[0m\u001b[0;34m.\u001b[0m\u001b[0mnorm\u001b[0m\u001b[0;34m(\u001b[0m\u001b[0mnorm_type\u001b[0m\u001b[0;34m)\u001b[0m\u001b[0;34m\u001b[0m\u001b[0m\n\u001b[0m\u001b[1;32m     29\u001b[0m             \u001b[0mtotal_norm\u001b[0m \u001b[0;34m+=\u001b[0m \u001b[0mparam_norm\u001b[0m \u001b[0;34m**\u001b[0m \u001b[0mnorm_type\u001b[0m\u001b[0;34m\u001b[0m\u001b[0m\n\u001b[1;32m     30\u001b[0m         \u001b[0mtotal_norm\u001b[0m \u001b[0;34m=\u001b[0m \u001b[0mtotal_norm\u001b[0m \u001b[0;34m**\u001b[0m \u001b[0;34m(\u001b[0m\u001b[0;36m1.\u001b[0m \u001b[0;34m/\u001b[0m \u001b[0mnorm_type\u001b[0m\u001b[0;34m)\u001b[0m\u001b[0;34m\u001b[0m\u001b[0m\n",
            "\u001b[0;31mKeyboardInterrupt\u001b[0m: "
          ]
        }
      ]
    },
    {
      "cell_type": "markdown",
      "metadata": {
        "id": "6gwIVGeiy-mf",
        "colab_type": "text"
      },
      "source": [
        "### Question: How did you decide on your model hyperparameters? \n",
        "For example, did you try different sequence_lengths and find that one size made the model converge faster? What about your hidden_dim and n_layers; how did you decide on those?"
      ]
    },
    {
      "cell_type": "markdown",
      "metadata": {
        "id": "xBkEf1pHy-mg",
        "colab_type": "text"
      },
      "source": [
        "**Answer:**\n",
        "\n",
        "- Tried bigger `sequence_length` of 20, 30, 50, but the slow training made me end up with choosing 10.\n",
        "\n",
        "- `n_layers` tha I chose was 2 and it gave me a better, faster results.\n",
        "\n",
        "- and for `hidden_dim` I found 512 is a reasonable one since it should be between the numbers of the inputs and the outputs I a lso believe it could be bigger.\n",
        "\n",
        "- I trained the model for 20 epochs and kept the `lr` = 0.001\n",
        "\n",
        "- I also initialized the weights for the embedding layers:\n",
        "  I calculated the stval = stdv = 1. / math.sqrt(self.weight.size(1))\n",
        "  and initialized the weights self.weight.data.normal_(0, stdv) \n",
        "  but found that inializing it with (0, 1) gave a better results and a faster convergence.\n",
        "The following references were helpful for me:\n",
        "https://www.ai-buzz.com/weight-initialization-in-pytorch/\n",
        "https://stackoverflow.com/questions/55276504/different-methods-for-initializing-embedding-layer-weights-in-pytorch\n",
        "https://discuss.pytorch.org/t/how-to-initialize-weights-bias-of-rnn-lstm-gru/2879/6\n",
        "\n",
        "- As a challange for myself and since it already took a lot of time I thought to take a validation set out and check the model while training, we can see an obvious overfitting that I my intuition tells me we can defeat by increasing the sequence length and/or decrease the hidden_layer or/and decrease the lr, and that is something I'll definately look into.  \n",
        "\n",
        "- I have really experienced a lot tunning in this model and it caused me a lot of GPU time, but I got out with a deeper understanding of RNNs and some best practices when training them.\n"
      ]
    },
    {
      "cell_type": "markdown",
      "metadata": {
        "id": "ZJzqgAbOy-mg",
        "colab_type": "text"
      },
      "source": [
        "---\n",
        "# Checkpoint\n",
        "\n",
        "After running the above training cell, your model will be saved by name, `trained_rnn`, and if you save your notebook progress, **you can pause here and come back to this code at another time**. You can resume your progress by running the next cell, which will load in our word:id dictionaries _and_ load in your saved model by name!"
      ]
    },
    {
      "cell_type": "code",
      "metadata": {
        "id": "4xl-3sIUy-mh",
        "colab_type": "code",
        "colab": {}
      },
      "source": [
        "\"\"\"\n",
        "DON'T MODIFY ANYTHING IN THIS CELL\n",
        "\"\"\"\"\n",
        "import torch\n",
        "import helper\n",
        "import problem_unittests as tests\n",
        "\n",
        "_, vocab_to_int, int_to_vocab, token_dict = helper.load_preprocess()\n",
        "trained_rnn_load = helper.load_model('./save/trained_rnn')"
      ],
      "execution_count": 0,
      "outputs": []
    },
    {
      "cell_type": "markdown",
      "metadata": {
        "id": "s0kTLhHsy-mk",
        "colab_type": "text"
      },
      "source": [
        "## Generate TV Script\n",
        "With the network trained and saved, you'll use it to generate a new, \"fake\" Seinfeld TV script in this section.\n",
        "\n",
        "### Generate Text\n",
        "To generate the text, the network needs to start with a single word and repeat its predictions until it reaches a set length. You'll be using the `generate` function to do this. It takes a word id to start with, `prime_id`, and generates a set length of text, `predict_len`. Also note that it uses topk sampling to introduce some randomness in choosing the most likely next word, given an output set of word scores!"
      ]
    },
    {
      "cell_type": "code",
      "metadata": {
        "id": "0-icWS21y-mk",
        "colab_type": "code",
        "colab": {}
      },
      "source": [
        "\"\"\"\n",
        "DON'T MODIFY ANYTHING IN THIS CELL THAT IS BELOW THIS LINE\n",
        "\"\"\"\n",
        "import torch.nn.functional as F\n",
        "\n",
        "def generate(rnn, prime_id, int_to_vocab, token_dict, pad_value, predict_len=100):\n",
        "    \"\"\"\n",
        "    Generate text using the neural network\n",
        "    :param decoder: The PyTorch Module that holds the trained neural network\n",
        "    :param prime_id: The word id to start the first prediction\n",
        "    :param int_to_vocab: Dict of word id keys to word values\n",
        "    :param token_dict: Dict of puncuation tokens keys to puncuation values\n",
        "    :param pad_value: The value used to pad a sequence\n",
        "    :param predict_len: The length of text to generate\n",
        "    :return: The generated text\n",
        "    \"\"\"\n",
        "    rnn.eval()\n",
        "    \n",
        "    # create a sequence (batch_size=1) with the prime_id\n",
        "    current_seq = np.full((1, sequence_length), pad_value)\n",
        "    current_seq[-1][-1] = prime_id\n",
        "    predicted = [int_to_vocab[prime_id]]\n",
        "    \n",
        "    for _ in range(predict_len):\n",
        "        if train_on_gpu:\n",
        "            current_seq = torch.LongTensor(current_seq).cuda()\n",
        "        else:\n",
        "            current_seq = torch.LongTensor(current_seq)\n",
        "        \n",
        "        # initialize the hidden state\n",
        "        hidden = rnn.init_hidden(current_seq.size(0))\n",
        "        \n",
        "        # get the output of the rnn\n",
        "        output, _ = rnn(current_seq, hidden)\n",
        "        \n",
        "        # get the next word probabilities\n",
        "        p = F.softmax(output, dim=1).data\n",
        "        if(train_on_gpu):\n",
        "            p = p.cpu() # move to cpu\n",
        "         \n",
        "        # use top_k sampling to get the index of the next word\n",
        "        top_k = 5\n",
        "        p, top_i = p.topk(top_k)\n",
        "        top_i = top_i.numpy().squeeze()\n",
        "        \n",
        "        # select the likely next word index with some element of randomness\n",
        "        p = p.numpy().squeeze()\n",
        "        word_i = np.random.choice(top_i, p=p/p.sum())\n",
        "        \n",
        "        # retrieve that word from the dictionary\n",
        "        word = int_to_vocab[word_i]\n",
        "        predicted.append(word)     \n",
        "        \n",
        "        # the generated word becomes the next \"current sequence\" and the cycle can continue\n",
        "        current_seq = np.roll(current_seq, -1, 1)\n",
        "        current_seq[-1][-1] = word_i\n",
        "    \n",
        "    gen_sentences = ' '.join(predicted)\n",
        "    \n",
        "    # Replace punctuation tokens\n",
        "    for key, token in token_dict.items():\n",
        "        ending = ' ' if key in ['\\n', '(', '\"'] else ''\n",
        "        gen_sentences = gen_sentences.replace(' ' + token.lower(), key)\n",
        "    gen_sentences = gen_sentences.replace('\\n ', '\\n')\n",
        "    gen_sentences = gen_sentences.replace('( ', '(')\n",
        "    \n",
        "    # return all the sentences\n",
        "    return gen_sentences"
      ],
      "execution_count": 0,
      "outputs": []
    },
    {
      "cell_type": "markdown",
      "metadata": {
        "id": "x2ukxPDFy-mq",
        "colab_type": "text"
      },
      "source": [
        "### Generate a New Script\n",
        "It's time to generate the text. Set `gen_length` to the length of TV script you want to generate and set `prime_word` to one of the following to start the prediction:\n",
        "- \"jerry\"\n",
        "- \"elaine\"\n",
        "- \"george\"\n",
        "- \"kramer\"\n",
        "\n",
        "You can set the prime word to _any word_ in our dictionary, but it's best to start with a name for generating a TV script. (You can also start with any other names you find in the original text file!)"
      ]
    },
    {
      "cell_type": "code",
      "metadata": {
        "id": "mOIp3Pdty-mr",
        "colab_type": "code",
        "colab": {},
        "outputId": "28e2ab47-c779-4093-902d-07577dfbf4e2"
      },
      "source": [
        "# run the cell multiple times to get different results!\n",
        "gen_length = 500 # modify the length to your preference\n",
        "prime_word = 'jerry' # name for starting the script\n",
        "\n",
        "\"\"\"\n",
        "DON'T MODIFY ANYTHING IN THIS CELL THAT IS BELOW THIS LINE\n",
        "\"\"\"\n",
        "pad_word = helper.SPECIAL_WORDS['PADDING']\n",
        "generated_script = generate(rnn, vocab_to_int[prime_word + ':'], int_to_vocab, token_dict, vocab_to_int[pad_word], gen_length)\n",
        "print(generated_script)"
      ],
      "execution_count": 0,
      "outputs": [
        {
          "output_type": "stream",
          "text": [
            "jerry: the whole thing has been a little thing...\n",
            "\n",
            "elaine: i can't believe it! i mean, if i could have the whole thing out.\n",
            "\n",
            "elaine: i don't want to be in the mood with a big smile, and the police are gonna get a lot of people to get you?(george enters)\n",
            "\n",
            "george:(looking for the phone) hey!!!\n",
            "\n",
            "kramer: yeah.\n",
            "\n",
            "kramer: hey, i got a big problem with you.\n",
            "\n",
            "kramer: i got a little problem.\n",
            "\n",
            "george: i think it's a good idea.\n",
            "\n",
            "jerry:(to jerry) what?!\n",
            "\n",
            "jerry:(pointing out) well, you should be a little bit, huh?\n",
            "\n",
            "george: yeah.\n",
            "\n",
            "kramer: well, you know i think i was just thinking of this thing.\n",
            "\n",
            "elaine:(laughs) yeah, i know, it's just the way that i was.\n",
            "\n",
            "george: what are we gonna do?\n",
            "\n",
            "george: i don't know.\n",
            "\n",
            "jerry: what?\n",
            "\n",
            "george: you know the whole time i was gonna do it.\n",
            "\n",
            "kramer: i don't know.\n",
            "\n",
            "jerry: i think i was just trying to get a big smile with a big smile.\n",
            "\n",
            "kramer: oh my god! you know i was a little nervous, but i don't know if i have to be a character.\n",
            "\n",
            "jerry: i don't think so.\n",
            "\n",
            "elaine: well, it's a little thing. i don't know what you want to see.\n",
            "\n",
            "george:(to kramer) you have a little more?\n",
            "\n",
            "jerry: no.\n",
            "\n",
            "jerry: i know.\n",
            "\n",
            "kramer: oh, well, i got a problem with the guy, you know, you know, they were going to be the best.\n",
            "\n",
            "george: i don't know.(to george, to george) i think i have to be a little nervous, i don't think so.\n",
            "\n",
            "elaine: well, i don't want to be in the car with it. i don't have to be a little. but the whole way you have.(george looks at the table, then exits.)\n",
            "\n",
            "jerry: oh.\n",
            "\n",
            "elaine: oh, yeah. i don't know what you're doing.\n",
            "\n",
            "jerry: oh, you don't think that you have to do this?\n",
            "\n",
            "jerry: i don't know.\n",
            "\n",
            "jerry: i know, it's just a big.\n",
            "\n",
            "jerry: i know.\n",
            "\n",
            "jerry: well, i just came out of the apartment.\n",
            "\n",
            "jerry: oh, i\n"
          ],
          "name": "stdout"
        }
      ]
    },
    {
      "cell_type": "markdown",
      "metadata": {
        "id": "9v3iFMlJy-mu",
        "colab_type": "text"
      },
      "source": [
        "#### Save your favorite scripts\n",
        "\n",
        "Once you have a script that you like (or find interesting), save it to a text file!"
      ]
    },
    {
      "cell_type": "code",
      "metadata": {
        "id": "l5WMhTJdy-mu",
        "colab_type": "code",
        "colab": {}
      },
      "source": [
        "# save script to a text file\n",
        "f =  open(\"generated_script_1.txt\",\"w\")\n",
        "f.write(generated_script)\n",
        "f.close()"
      ],
      "execution_count": 0,
      "outputs": []
    },
    {
      "cell_type": "markdown",
      "metadata": {
        "id": "PRbQXs1Hy-mx",
        "colab_type": "text"
      },
      "source": [
        "# The TV Script is Not Perfect\n",
        "It's ok if the TV script doesn't make perfect sense. It should look like alternating lines of dialogue, here is one such example of a few generated lines.\n",
        "\n",
        "### Example generated script\n",
        "\n",
        ">jerry: what about me?\n",
        ">\n",
        ">jerry: i don't have to wait.\n",
        ">\n",
        ">kramer:(to the sales table)\n",
        ">\n",
        ">elaine:(to jerry) hey, look at this, i'm a good doctor.\n",
        ">\n",
        ">newman:(to elaine) you think i have no idea of this...\n",
        ">\n",
        ">elaine: oh, you better take the phone, and he was a little nervous.\n",
        ">\n",
        ">kramer:(to the phone) hey, hey, jerry, i don't want to be a little bit.(to kramer and jerry) you can't.\n",
        ">\n",
        ">jerry: oh, yeah. i don't even know, i know.\n",
        ">\n",
        ">jerry:(to the phone) oh, i know.\n",
        ">\n",
        ">kramer:(laughing) you know...(to jerry) you don't know.\n",
        "\n",
        "You can see that there are multiple characters that say (somewhat) complete sentences, but it doesn't have to be perfect! It takes quite a while to get good results, and often, you'll have to use a smaller vocabulary (and discard uncommon words), or get more data.  The Seinfeld dataset is about 3.4 MB, which is big enough for our purposes; for script generation you'll want more than 1 MB of text, generally. \n",
        "\n",
        "# Submitting This Project\n",
        "When submitting this project, make sure to run all the cells before saving the notebook. Save the notebook file as \"dlnd_tv_script_generation.ipynb\" and save another copy as an HTML file by clicking \"File\" -> \"Download as..\"->\"html\". Include the \"helper.py\" and \"problem_unittests.py\" files in your submission. Once you download these files, compress them into one zip file for submission."
      ]
    },
    {
      "cell_type": "code",
      "metadata": {
        "id": "9lV3VLeDy-my",
        "colab_type": "code",
        "colab": {}
      },
      "source": [
        ""
      ],
      "execution_count": 0,
      "outputs": []
    },
    {
      "cell_type": "code",
      "metadata": {
        "id": "Zs0JYfAOy-m0",
        "colab_type": "code",
        "colab": {}
      },
      "source": [
        ""
      ],
      "execution_count": 0,
      "outputs": []
    }
  ]
}